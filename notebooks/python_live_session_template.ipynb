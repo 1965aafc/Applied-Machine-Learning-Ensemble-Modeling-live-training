{
  "nbformat": 4,
  "nbformat_minor": 0,
  "metadata": {
    "colab": {
      "name": "python_live_session_template.ipynb",
      "provenance": []
    },
    "kernelspec": {
      "display_name": "Python 3",
      "language": "python",
      "name": "python3"
    },
    "language_info": {
      "codemirror_mode": {
        "name": "ipython",
        "version": 3
      },
      "file_extension": ".py",
      "mimetype": "text/x-python",
      "name": "python",
      "nbconvert_exporter": "python",
      "pygments_lexer": "ipython3",
      "version": "3.7.1"
    }
  },
  "cells": [
    {
      "cell_type": "markdown",
      "metadata": {
        "colab_type": "text",
        "id": "6Ijg5wUCTQYG"
      },
      "source": [
        "<p align=\"center\">\n",
        "<img src=\"https://github.com/datacamp/python-live-training-template/blob/master/assets/datacamp.svg?raw=True\" alt = \"DataCamp icon\" width=\"50%\">\n",
        "</p>\n",
        "<br><br>\n",
        "\n",
        "## **Applied Machine Learning - Ensemble Modeling Live Training**\n",
        "\n",
        "Welcome to this hands-on training where you will immerse yourself in applied machine learning in Python where we'll explore model stacking. Using `sklearn.ensemble`, we'll learn how to create layers that are stacking-ready.\n",
        "\n",
        "The foundations of model stacking:\n",
        "\n",
        "* Create various types of baseline models, including linear and logistic regression using Scikit-Learn, for comparison to ensemble methods.\n",
        "* Build layers, then stack them up.\n",
        "* Calculate performance metrics.\n",
        "\n",
        "## **1st Dataset**\n",
        "\n",
        "\n",
        "The first dataset we'll use is a CSV file named `pima-indians-diabetes.csv`, which contains data on females of Pima Indian heritage that are at least 21 years old. It contains the following columns:\n",
        "\n",
        "- `n_preg`: Number of pregnancies\n",
        "- `pl_glucose`: Plasma glucose concentration 2 hours after an oral glucose tolerance test\n",
        "- `dia_bp`: Diastolic blood pressure (mm Hg)\n",
        "- `tri_thick`: Triceps skin fold thickness (mm)\n",
        "- `serum_ins`: 2-Hour serum insulin (mu U/ml)\n",
        "- `bmi`: Body mass index (weight in kg/(height in m)^2)\n",
        "- `diab_ped`: Diabetes pedigree function\n",
        "- `age`: Age (years)\n",
        "- `class`: Class variable (0 or 1)\n"
      ]
    },
    {
      "cell_type": "code",
      "metadata": {
        "colab_type": "code",
        "id": "EMQfyC7GUNhT",
        "colab": {
          "base_uri": "https://localhost:8080/",
          "height": 51
        },
        "outputId": "5d238511-7e0e-448c-e54f-3ae7d16b8be9"
      },
      "source": [
        "# Import libraries\n",
        "import pandas as pd\n",
        "import numpy as np\n",
        "from numpy import mean\n",
        "from numpy import std\n",
        "import matplotlib.pyplot as plt\n",
        "import seaborn as sns\n",
        "from sklearn.preprocessing import LabelEncoder\n",
        "from sklearn.model_selection import cross_val_score\n",
        "from sklearn.model_selection import RepeatedStratifiedKFold\n",
        "from sklearn.dummy import DummyClassifier\n",
        "from sklearn.linear_model import LogisticRegression"
      ],
      "execution_count": 1,
      "outputs": [
        {
          "output_type": "stream",
          "text": [
            "/usr/local/lib/python3.6/dist-packages/statsmodels/tools/_testing.py:19: FutureWarning: pandas.util.testing is deprecated. Use the functions in the public API at pandas.testing instead.\n",
            "  import pandas.util.testing as tm\n"
          ],
          "name": "stderr"
        }
      ]
    },
    {
      "cell_type": "code",
      "metadata": {
        "colab_type": "code",
        "id": "l8t_EwRNZPLB",
        "colab": {}
      },
      "source": [
        "# Read in the dataset as Pandas DataFrame\n",
        "diabetes = pd.read_csv('https://github.com/datacamp/Applied-Machine-Learning-Ensemble-Modeling-live-training/blob/master/data/pima-indians-diabetes.csv?raw=true')"
      ],
      "execution_count": 2,
      "outputs": []
    },
    {
      "cell_type": "code",
      "metadata": {
        "id": "PRJPuinPZpGA",
        "colab_type": "code",
        "colab": {
          "base_uri": "https://localhost:8080/",
          "height": 289
        },
        "outputId": "34e196cb-7ffb-4b2c-e113-8a572a14241a"
      },
      "source": [
        "# Look at data using the info() function\n",
        "diabetes.info()"
      ],
      "execution_count": 3,
      "outputs": [
        {
          "output_type": "stream",
          "text": [
            "<class 'pandas.core.frame.DataFrame'>\n",
            "RangeIndex: 768 entries, 0 to 767\n",
            "Data columns (total 9 columns):\n",
            " #   Column      Non-Null Count  Dtype  \n",
            "---  ------      --------------  -----  \n",
            " 0   n_preg      768 non-null    int64  \n",
            " 1   pl_glucose  768 non-null    int64  \n",
            " 2   dia_bp      768 non-null    int64  \n",
            " 3   tri_thick   768 non-null    int64  \n",
            " 4   serum_ins   768 non-null    int64  \n",
            " 5   bmi         768 non-null    float64\n",
            " 6   diab_ped    768 non-null    float64\n",
            " 7   age         768 non-null    int64  \n",
            " 8   class       768 non-null    int64  \n",
            "dtypes: float64(2), int64(7)\n",
            "memory usage: 54.1 KB\n"
          ],
          "name": "stdout"
        }
      ]
    },
    {
      "cell_type": "markdown",
      "metadata": {
        "id": "C6OVOkU80oKP",
        "colab_type": "text"
      },
      "source": [
        "## **Observations:** \n",
        "- The `info()` function is critical to beginning to understand your data.  Here, there are no missing values.  However, that is not typical.\n",
        "- There is a mixture of integers and floats with the first 5 columns being `int64`, the next 2 `float64` and the last 2 'int64`."
      ]
    },
    {
      "cell_type": "code",
      "metadata": {
        "id": "E6UtlpG_Zo50",
        "colab_type": "code",
        "colab": {
          "base_uri": "https://localhost:8080/",
          "height": 297
        },
        "outputId": "a6d26ab5-8ac3-4042-8034-cd98e1733ec5"
      },
      "source": [
        "# Look at data using the describe() function\n",
        "diabetes.describe()"
      ],
      "execution_count": 4,
      "outputs": [
        {
          "output_type": "execute_result",
          "data": {
            "text/html": [
              "<div>\n",
              "<style scoped>\n",
              "    .dataframe tbody tr th:only-of-type {\n",
              "        vertical-align: middle;\n",
              "    }\n",
              "\n",
              "    .dataframe tbody tr th {\n",
              "        vertical-align: top;\n",
              "    }\n",
              "\n",
              "    .dataframe thead th {\n",
              "        text-align: right;\n",
              "    }\n",
              "</style>\n",
              "<table border=\"1\" class=\"dataframe\">\n",
              "  <thead>\n",
              "    <tr style=\"text-align: right;\">\n",
              "      <th></th>\n",
              "      <th>n_preg</th>\n",
              "      <th>pl_glucose</th>\n",
              "      <th>dia_bp</th>\n",
              "      <th>tri_thick</th>\n",
              "      <th>serum_ins</th>\n",
              "      <th>bmi</th>\n",
              "      <th>diab_ped</th>\n",
              "      <th>age</th>\n",
              "      <th>class</th>\n",
              "    </tr>\n",
              "  </thead>\n",
              "  <tbody>\n",
              "    <tr>\n",
              "      <th>count</th>\n",
              "      <td>768.000000</td>\n",
              "      <td>768.000000</td>\n",
              "      <td>768.000000</td>\n",
              "      <td>768.000000</td>\n",
              "      <td>768.000000</td>\n",
              "      <td>768.000000</td>\n",
              "      <td>768.000000</td>\n",
              "      <td>768.000000</td>\n",
              "      <td>768.000000</td>\n",
              "    </tr>\n",
              "    <tr>\n",
              "      <th>mean</th>\n",
              "      <td>3.845052</td>\n",
              "      <td>120.894531</td>\n",
              "      <td>69.105469</td>\n",
              "      <td>20.536458</td>\n",
              "      <td>79.799479</td>\n",
              "      <td>31.992578</td>\n",
              "      <td>0.471876</td>\n",
              "      <td>33.240885</td>\n",
              "      <td>0.348958</td>\n",
              "    </tr>\n",
              "    <tr>\n",
              "      <th>std</th>\n",
              "      <td>3.369578</td>\n",
              "      <td>31.972618</td>\n",
              "      <td>19.355807</td>\n",
              "      <td>15.952218</td>\n",
              "      <td>115.244002</td>\n",
              "      <td>7.884160</td>\n",
              "      <td>0.331329</td>\n",
              "      <td>11.760232</td>\n",
              "      <td>0.476951</td>\n",
              "    </tr>\n",
              "    <tr>\n",
              "      <th>min</th>\n",
              "      <td>0.000000</td>\n",
              "      <td>0.000000</td>\n",
              "      <td>0.000000</td>\n",
              "      <td>0.000000</td>\n",
              "      <td>0.000000</td>\n",
              "      <td>0.000000</td>\n",
              "      <td>0.078000</td>\n",
              "      <td>21.000000</td>\n",
              "      <td>0.000000</td>\n",
              "    </tr>\n",
              "    <tr>\n",
              "      <th>25%</th>\n",
              "      <td>1.000000</td>\n",
              "      <td>99.000000</td>\n",
              "      <td>62.000000</td>\n",
              "      <td>0.000000</td>\n",
              "      <td>0.000000</td>\n",
              "      <td>27.300000</td>\n",
              "      <td>0.243750</td>\n",
              "      <td>24.000000</td>\n",
              "      <td>0.000000</td>\n",
              "    </tr>\n",
              "    <tr>\n",
              "      <th>50%</th>\n",
              "      <td>3.000000</td>\n",
              "      <td>117.000000</td>\n",
              "      <td>72.000000</td>\n",
              "      <td>23.000000</td>\n",
              "      <td>30.500000</td>\n",
              "      <td>32.000000</td>\n",
              "      <td>0.372500</td>\n",
              "      <td>29.000000</td>\n",
              "      <td>0.000000</td>\n",
              "    </tr>\n",
              "    <tr>\n",
              "      <th>75%</th>\n",
              "      <td>6.000000</td>\n",
              "      <td>140.250000</td>\n",
              "      <td>80.000000</td>\n",
              "      <td>32.000000</td>\n",
              "      <td>127.250000</td>\n",
              "      <td>36.600000</td>\n",
              "      <td>0.626250</td>\n",
              "      <td>41.000000</td>\n",
              "      <td>1.000000</td>\n",
              "    </tr>\n",
              "    <tr>\n",
              "      <th>max</th>\n",
              "      <td>17.000000</td>\n",
              "      <td>199.000000</td>\n",
              "      <td>122.000000</td>\n",
              "      <td>99.000000</td>\n",
              "      <td>846.000000</td>\n",
              "      <td>67.100000</td>\n",
              "      <td>2.420000</td>\n",
              "      <td>81.000000</td>\n",
              "      <td>1.000000</td>\n",
              "    </tr>\n",
              "  </tbody>\n",
              "</table>\n",
              "</div>"
            ],
            "text/plain": [
              "           n_preg  pl_glucose      dia_bp  ...    diab_ped         age       class\n",
              "count  768.000000  768.000000  768.000000  ...  768.000000  768.000000  768.000000\n",
              "mean     3.845052  120.894531   69.105469  ...    0.471876   33.240885    0.348958\n",
              "std      3.369578   31.972618   19.355807  ...    0.331329   11.760232    0.476951\n",
              "min      0.000000    0.000000    0.000000  ...    0.078000   21.000000    0.000000\n",
              "25%      1.000000   99.000000   62.000000  ...    0.243750   24.000000    0.000000\n",
              "50%      3.000000  117.000000   72.000000  ...    0.372500   29.000000    0.000000\n",
              "75%      6.000000  140.250000   80.000000  ...    0.626250   41.000000    1.000000\n",
              "max     17.000000  199.000000  122.000000  ...    2.420000   81.000000    1.000000\n",
              "\n",
              "[8 rows x 9 columns]"
            ]
          },
          "metadata": {
            "tags": []
          },
          "execution_count": 4
        }
      ]
    },
    {
      "cell_type": "markdown",
      "metadata": {
        "id": "bCK9W_gk1HG8",
        "colab_type": "text"
      },
      "source": [
        "## **Observations:** \n",
        "- The `.describe()` function gives the summary statistics of the data.  Notice that the min of the 1st six columns is zero.  Even though there are no missing values, this is indicative of the measurements for those features having not been captured.\n",
        "- Although we previously saw there is a mixture of integer and float data types (as seen with `.info()`), the printout makes it appear as if all values are float.  "
      ]
    },
    {
      "cell_type": "code",
      "metadata": {
        "id": "UE5F_JUQ2X-0",
        "colab_type": "code",
        "colab": {
          "base_uri": "https://localhost:8080/",
          "height": 204
        },
        "outputId": "51711fd9-e2ce-42e8-9c2f-6857f89c5a7a"
      },
      "source": [
        "# Print the first 5 rows of the data using the head() function\n",
        "diabetes.head()"
      ],
      "execution_count": 5,
      "outputs": [
        {
          "output_type": "execute_result",
          "data": {
            "text/html": [
              "<div>\n",
              "<style scoped>\n",
              "    .dataframe tbody tr th:only-of-type {\n",
              "        vertical-align: middle;\n",
              "    }\n",
              "\n",
              "    .dataframe tbody tr th {\n",
              "        vertical-align: top;\n",
              "    }\n",
              "\n",
              "    .dataframe thead th {\n",
              "        text-align: right;\n",
              "    }\n",
              "</style>\n",
              "<table border=\"1\" class=\"dataframe\">\n",
              "  <thead>\n",
              "    <tr style=\"text-align: right;\">\n",
              "      <th></th>\n",
              "      <th>n_preg</th>\n",
              "      <th>pl_glucose</th>\n",
              "      <th>dia_bp</th>\n",
              "      <th>tri_thick</th>\n",
              "      <th>serum_ins</th>\n",
              "      <th>bmi</th>\n",
              "      <th>diab_ped</th>\n",
              "      <th>age</th>\n",
              "      <th>class</th>\n",
              "    </tr>\n",
              "  </thead>\n",
              "  <tbody>\n",
              "    <tr>\n",
              "      <th>0</th>\n",
              "      <td>6</td>\n",
              "      <td>148</td>\n",
              "      <td>72</td>\n",
              "      <td>35</td>\n",
              "      <td>0</td>\n",
              "      <td>33.6</td>\n",
              "      <td>0.627</td>\n",
              "      <td>50</td>\n",
              "      <td>1</td>\n",
              "    </tr>\n",
              "    <tr>\n",
              "      <th>1</th>\n",
              "      <td>1</td>\n",
              "      <td>85</td>\n",
              "      <td>66</td>\n",
              "      <td>29</td>\n",
              "      <td>0</td>\n",
              "      <td>26.6</td>\n",
              "      <td>0.351</td>\n",
              "      <td>31</td>\n",
              "      <td>0</td>\n",
              "    </tr>\n",
              "    <tr>\n",
              "      <th>2</th>\n",
              "      <td>8</td>\n",
              "      <td>183</td>\n",
              "      <td>64</td>\n",
              "      <td>0</td>\n",
              "      <td>0</td>\n",
              "      <td>23.3</td>\n",
              "      <td>0.672</td>\n",
              "      <td>32</td>\n",
              "      <td>1</td>\n",
              "    </tr>\n",
              "    <tr>\n",
              "      <th>3</th>\n",
              "      <td>1</td>\n",
              "      <td>89</td>\n",
              "      <td>66</td>\n",
              "      <td>23</td>\n",
              "      <td>94</td>\n",
              "      <td>28.1</td>\n",
              "      <td>0.167</td>\n",
              "      <td>21</td>\n",
              "      <td>0</td>\n",
              "    </tr>\n",
              "    <tr>\n",
              "      <th>4</th>\n",
              "      <td>0</td>\n",
              "      <td>137</td>\n",
              "      <td>40</td>\n",
              "      <td>35</td>\n",
              "      <td>168</td>\n",
              "      <td>43.1</td>\n",
              "      <td>2.288</td>\n",
              "      <td>33</td>\n",
              "      <td>1</td>\n",
              "    </tr>\n",
              "  </tbody>\n",
              "</table>\n",
              "</div>"
            ],
            "text/plain": [
              "   n_preg  pl_glucose  dia_bp  tri_thick  serum_ins   bmi  diab_ped  age  class\n",
              "0       6         148      72         35          0  33.6     0.627   50      1\n",
              "1       1          85      66         29          0  26.6     0.351   31      0\n",
              "2       8         183      64          0          0  23.3     0.672   32      1\n",
              "3       1          89      66         23         94  28.1     0.167   21      0\n",
              "4       0         137      40         35        168  43.1     2.288   33      1"
            ]
          },
          "metadata": {
            "tags": []
          },
          "execution_count": 5
        }
      ]
    },
    {
      "cell_type": "markdown",
      "metadata": {
        "id": "A2VCIx0K2bT1",
        "colab_type": "text"
      },
      "source": [
        "## **Observation:**\n",
        "- Printing out the first 5 rows, we see that the data types of the columns are indeed as stated previously."
      ]
    },
    {
      "cell_type": "code",
      "metadata": {
        "id": "n5XaYl9ZZ8B5",
        "colab_type": "code",
        "colab": {}
      },
      "source": [
        "# Convert Pandas DataFrame to numpy array - Return only the values of the DataFrame with DataFrame.to_numpy()\n",
        "diabetes = diabetes.to_numpy()"
      ],
      "execution_count": 6,
      "outputs": []
    },
    {
      "cell_type": "markdown",
      "metadata": {
        "id": "MlGa9IBc7Gsr",
        "colab_type": "text"
      },
      "source": [
        "### Always verify that your X matrix and target array have the same number of rows to avoid errors during model training."
      ]
    },
    {
      "cell_type": "code",
      "metadata": {
        "id": "9FEvD6Ab6InP",
        "colab_type": "code",
        "colab": {
          "base_uri": "https://localhost:8080/",
          "height": 34
        },
        "outputId": "5f408ffe-a75e-43f2-de7e-697320af2ca0"
      },
      "source": [
        "# Create X matrix and y (target) array using slicing [row_start:row_end, col_start:target_col],[row_start:row_end, target_col]\n",
        "X, y = diabetes[:, :-1], diabetes[:, -1]\n",
        "\n",
        "# Print X matrix and y (target) array dimensions using .shape \n",
        "print('Shape: %s, %s' % (X.shape, y.shape))"
      ],
      "execution_count": 7,
      "outputs": [
        {
          "output_type": "stream",
          "text": [
            "Shape: (768, 8), (768,)\n"
          ],
          "name": "stdout"
        }
      ]
    },
    {
      "cell_type": "code",
      "metadata": {
        "id": "VtDjfls8xbK0",
        "colab_type": "code",
        "colab": {}
      },
      "source": [
        "# ALWAYS set a seed for reproducibility!  Do this using np.random.seed()\n",
        "np.random.seed(42)"
      ],
      "execution_count": 8,
      "outputs": []
    },
    {
      "cell_type": "code",
      "metadata": {
        "id": "hoI7t4U-Z8LU",
        "colab_type": "code",
        "colab": {}
      },
      "source": [
        "# Convert X matrix data types to 'float32' for consistency using .astype()\n",
        "X = X.astype('float32')\n",
        "\n",
        "# Convert y (target) array to 'str' using .astype()\n",
        "y = y.astype('str')\n",
        "\n",
        "# Encode class labels in y array using dot notation with LabelEncoder().fit_transform()\n",
        "# Hint: y goes in the fit_transform function call\n",
        "y = LabelEncoder().fit_transform(y)"
      ],
      "execution_count": 9,
      "outputs": []
    },
    {
      "cell_type": "markdown",
      "metadata": {
        "id": "djXWv2xp9v1q",
        "colab_type": "text"
      },
      "source": [
        "### Don't let the `.astype('str')` throw you!  This is simply taking the class labels and label encoding them – regardless of their original format."
      ]
    },
    {
      "cell_type": "markdown",
      "metadata": {
        "id": "OHHu8uz7_yVa",
        "colab_type": "text"
      },
      "source": [
        "## **Creating a Naive Classifier**\n",
        "Here we'll use the `DummyClassifier` from `sklearn` and set the `strategy` argument to `most_frequent`.  This creates a so-called 'naive' classifer and is simply a model that predicts a single class for all of the rows, regardless of their original class.  \n",
        "\n",
        "`DummyClassifier` arguments:\n",
        "- `strategy`: Strategy to use to generate predictions.\n",
        "\n",
        "`RepeatedStratifiedKFold` arguments:\n",
        "- `n_splits`: Number of folds.\n",
        "- `n_repeats`: Number of times cross-validator needs to be repeated.\n",
        "- `random_state`: Controls the generation of the random states for each repetition. Pass an int for reproducible output across multiple function calls.  (This is an equivalent argument to np.random.seed above, but will be specific to this naive model.)\n",
        "\n",
        "`cross_val_score` arguments:\n",
        "- The model to use.\n",
        "- The data to fit. (X)\n",
        "- The target variable to try to predict. (y)\n",
        "- `scoring`: A single string scorer callable object/function such as 'accuracy' or 'roc_auc'.  See https://scikit-learn.org/stable/modules/model_evaluation.html#scoring-parameter for more options.\n",
        "- `cv`: Cross-validation splitting strategy (default is 5)\n",
        "- `error_score`: Value to assign to the score if an error occurs in estimator fitting. If set to ‘raise’, the error is raised. If a numeric value is given, FitFailedWarning is raised.\n",
        "\n",
        "Next we'll use the `cross_val_score` function to evaluate the naive model we have instantiated, passing in the model name, our X matrix and target array, setting the `scoring` argument to use `accuracy`, the `cv` argument to the cross-validation from the previous line, and `error_score` to raise an error in the event of an error during calculation.\n",
        "\n",
        "Lastly, we'll print out the mean score and its standard deviation to give us a naive baseline from which we'll seek to improve our model upon."
      ]
    },
    {
      "cell_type": "code",
      "metadata": {
        "id": "BL4huFGPZ8RA",
        "colab_type": "code",
        "colab": {
          "base_uri": "https://localhost:8080/",
          "height": 34
        },
        "outputId": "4443421c-4120-4dd8-ded3-fc2049553572"
      },
      "source": [
        "# Evaluate naive\n",
        "\n",
        "# Instantiate a DummyClassifier with 'most_frequent' strategy\n",
        "naive = DummyClassifier(strategy='most_frequent')\n",
        "\n",
        "# Create RepeatedStratifiedKFold cross-validator with 10 folds, 3 repeats and a seed of 1.\n",
        "cv = RepeatedStratifiedKFold(n_splits=10, n_repeats=3, random_state=1)\n",
        "\n",
        "# Calculate accuracy using `cross_val_score()` with model instantiated, data to fit, target variable,\n",
        "# 'accuracy' scoring, cross validator, and error_score set to 'raise'\n",
        "n_scores = cross_val_score(naive, X, y, scoring='accuracy', cv=cv, error_score='raise')\n",
        "\n",
        "# Print mean and standard deviation of n_scores: \n",
        "print('Naive score: %.3f (%.3f)' % (np.mean(n_scores), np.std(n_scores)))\n"
      ],
      "execution_count": 12,
      "outputs": [
        {
          "output_type": "stream",
          "text": [
            "Naive score: 0.651 (0.003)\n"
          ],
          "name": "stdout"
        }
      ]
    },
    {
      "cell_type": "markdown",
      "metadata": {
        "id": "2tEgwsOfsoB6",
        "colab_type": "text"
      },
      "source": [
        "## **Observation** \n",
        "- We want to do better than 65% accuracy to consider any other models as an improvement to a totally naive model."
      ]
    },
    {
      "cell_type": "markdown",
      "metadata": {
        "id": "l8QZOyg8s1eQ",
        "colab_type": "text"
      },
      "source": [
        "## **Creating a Baseline Classifier**\n",
        "Now we'll create a baseline classifier, one that seeks to correctly predict the class that each observation belongs to.  Since the target variable is binary, we'll instantiate a `LogisticRegression` model, set the `solver` argument to `lbfgs` and `penalty` to `l2`.  \n",
        "\n",
        "- The `lbfgs` solver finds a (local) minimum of an objective function by using the gradient and values of the objective function.\n",
        "- The `l2` penalty is equivalent to Ridge Regression, shrinking the coefficients of the less important features toward (but not to) zero."
      ]
    },
    {
      "cell_type": "code",
      "metadata": {
        "id": "QczFUGSfbQvl",
        "colab_type": "code",
        "colab": {
          "base_uri": "https://localhost:8080/",
          "height": 34
        },
        "outputId": "e07c1fb0-fc46-412c-ec1b-5bd23588ec0a"
      },
      "source": [
        "# Evaluate model\n",
        "model = LogisticRegression(solver='lbfgs',penalty='l2')\n",
        "m_scores = cross_val_score(model, X, y, scoring='accuracy', cv=cv, n_jobs=-1, error_score='raise')\n",
        "print('Baseline score: %.3f (%.3f)' % (np.mean(m_scores), np.std(m_scores)))"
      ],
      "execution_count": 11,
      "outputs": [
        {
          "output_type": "stream",
          "text": [
            "Baseline score: 0.773 (0.040)\n"
          ],
          "name": "stdout"
        }
      ]
    },
    {
      "cell_type": "markdown",
      "metadata": {
        "id": "GRUBiqqmtNA6",
        "colab_type": "text"
      },
      "source": [
        "## **Observation**\n",
        "- We want to do better than 77% with a Stacking Classifier to consider it an improvement over this baseline logistic regression model."
      ]
    },
    {
      "cell_type": "markdown",
      "metadata": {
        "colab_type": "text",
        "id": "BMYfcKeDY85K"
      },
      "source": [
        "## **Getting started with Stacking Classifier**\n",
        "\n",
        "- We're going to compare several additional baseline classifiers to see if they perform better than Logistic Regression we just trained previously.\n",
        "- We'll start by importing additional packages that we'll need."
      ]
    },
    {
      "cell_type": "code",
      "metadata": {
        "id": "eHCHmx7k5NeT",
        "colab_type": "code",
        "colab": {}
      },
      "source": [
        "# Compare ensemble to each baseline classifier\n",
        "from sklearn.neighbors import KNeighborsClassifier\n",
        "from sklearn.tree import DecisionTreeClassifier\n",
        "from sklearn.svm import SVC\n",
        "from sklearn.naive_bayes import GaussianNB\n",
        "from sklearn.ensemble import StackingClassifier"
      ],
      "execution_count": 154,
      "outputs": []
    },
    {
      "cell_type": "markdown",
      "metadata": {
        "id": "teQMB0aWxhcN",
        "colab_type": "text"
      },
      "source": [
        "## Defining the layers with:\n",
        "- layer 1 being instantiation of all our baseline classifiers\n",
        "- layer 2 being instantiation of our 'meta' learner, Logistic Regression\n",
        "- assigning our `StackingClassifier` to the `model` variable passing the arguments `estimators` which is our list of baseline classifiers, `final_estimator` our meta classifier, and `cv` a value of 5 for a 5-fold cross validation."
      ]
    },
    {
      "cell_type": "code",
      "metadata": {
        "id": "YFhBv6jR6FOe",
        "colab_type": "code",
        "colab": {}
      },
      "source": [
        "# Create the stacking ensemble of models\n",
        "def get_stacking():\n",
        "\t# Define the base models\n",
        "  layer1 = list()\n",
        "  layer1.append(('LR', LogisticRegression()))\n",
        "  layer1.append(('KNN', KNeighborsClassifier()))\n",
        "  layer1.append(('DT', DecisionTreeClassifier()))\n",
        "  layer1.append(('SVM', SVC()))\n",
        "  layer1.append(('Bayes', GaussianNB()))\n",
        "  # Define meta learner model\n",
        "  layer2 = LogisticRegression()\n",
        "\t# Define stacking classifier with the meta learner\n",
        "  model = StackingClassifier(estimators=layer1, final_estimator=layer2, cv=5)\n",
        "  return model"
      ],
      "execution_count": 1,
      "outputs": []
    },
    {
      "cell_type": "markdown",
      "metadata": {
        "id": "d5szw9liyaxp",
        "colab_type": "text"
      },
      "source": [
        "## Create a key:value pair dictionary that will:\n",
        "- have the key as the name of the model \n",
        "- the value as the model instantiation (with no arguments) \n",
        "- the final (Stacking) calling the `get_stacking`() function we just created."
      ]
    },
    {
      "cell_type": "code",
      "metadata": {
        "id": "0hEJlDLB4kv5",
        "colab_type": "code",
        "colab": {}
      },
      "source": [
        "# Create dictionary of models to evaluate\n",
        "def get_models():\n",
        "  models = dict()\n",
        "  models['LR'] = LogisticRegression() \n",
        "  models['KNN'] = KNeighborsClassifier() \n",
        "  models['DT'] = DecisionTreeClassifier()\n",
        "  models['SVM'] = SVC()\n",
        "  models['Bayes'] = GaussianNB()\n",
        "  models['Stacking'] = get_stacking()\n",
        "  return models"
      ],
      "execution_count": 2,
      "outputs": []
    },
    {
      "cell_type": "markdown",
      "metadata": {
        "id": "flSG4dH1zCTK",
        "colab_type": "text"
      },
      "source": [
        "## Define another custom function called `evaluate_model` that:\n",
        "- evaluates each model using `RepeatStratifiedKFold` cross-validation\n",
        "- returns the `accuracy` using the `cross_val_score` function"
      ]
    },
    {
      "cell_type": "code",
      "metadata": {
        "id": "mGLKRr0j5Nit",
        "colab_type": "code",
        "colab": {}
      },
      "source": [
        "# Evaluate a given model using Cross-Validation\n",
        "def evaluate_model(model):\n",
        "  cv = RepeatedStratifiedKFold(n_splits=10, n_repeats=3, random_state=1)\n",
        "  scores = cross_val_score(model, X, y, scoring='accuracy', cv=cv, n_jobs=-1, error_score='raise')\n",
        "  return scores"
      ],
      "execution_count": 160,
      "outputs": []
    },
    {
      "cell_type": "code",
      "metadata": {
        "id": "Y5wmC-TH7B7E",
        "colab_type": "code",
        "colab": {}
      },
      "source": [
        "# get the models to evaluate\n",
        "models = get_models()"
      ],
      "execution_count": 161,
      "outputs": []
    },
    {
      "cell_type": "code",
      "metadata": {
        "id": "QzXmYt1o6FWh",
        "colab_type": "code",
        "colab": {
          "base_uri": "https://localhost:8080/",
          "height": 384
        },
        "outputId": "0e9c49bc-6c6b-483f-890d-4331734e61d4"
      },
      "source": [
        "# Evaluate the models and store results\n",
        "results, names = list(), list()\n",
        "for name, model in models.items():\n",
        "\tscores = evaluate_model(model)\n",
        "\tresults.append(scores)\n",
        "\tnames.append(name)\n",
        "\tprint('>%s %.3f (%.3f)' % (name, mean(scores), std(scores)))\n",
        "# Plot model performance for comparison\n",
        "sns.boxplot(x=names, y=results, showmeans=True)"
      ],
      "execution_count": 162,
      "outputs": [
        {
          "output_type": "stream",
          "text": [
            ">LR 0.831 (0.045)\n",
            ">KNN 0.734 (0.062)\n",
            ">DT 0.670 (0.068)\n",
            ">SVM 0.815 (0.048)\n",
            ">Bayes 0.816 (0.049)\n",
            ">Stacking 0.831 (0.044)\n"
          ],
          "name": "stdout"
        },
        {
          "output_type": "execute_result",
          "data": {
            "text/plain": [
              "<matplotlib.axes._subplots.AxesSubplot at 0x7f084509c470>"
            ]
          },
          "metadata": {
            "tags": []
          },
          "execution_count": 162
        },
        {
          "output_type": "display_data",
          "data": {
            "image/png": "[encoded data removed]",
            "text/plain": [
              "<Figure size 432x288 with 1 Axes>"
            ]
          },
          "metadata": {
            "tags": [],
            "needs_background": "light"
          }
        }
      ]
    },
    {
      "cell_type": "code",
      "metadata": {
        "id": "YE4Yv6iXnrS1",
        "colab_type": "code",
        "colab": {
          "base_uri": "https://localhost:8080/",
          "height": 51
        },
        "outputId": "90038020-aea3-450c-d990-8726d7b60105"
      },
      "source": [
        "import warnings\n",
        "warnings.filterwarnings(\"ignore\")\n",
        "# Fit the model on all available data\n",
        "model.fit(X, y)\n",
        "# Make a prediction for one example\n",
        "data = X[1].reshape(1, -1)\n",
        "yhat = model.predict(data)\n",
        "print('Predicted Class: %d' % (yhat))\n",
        "print('Actual Class: %d' % (y[1]))"
      ],
      "execution_count": 167,
      "outputs": [
        {
          "output_type": "stream",
          "text": [
            "Predicted Class: 0\n",
            "Actual Class: 0\n"
          ],
          "name": "stdout"
        }
      ]
    },
    {
      "cell_type": "markdown",
      "metadata": {
        "id": "nqDHD8A_nhPB",
        "colab_type": "text"
      },
      "source": [
        "## **2nd Dataset**\n",
        "\n",
        "\n",
        "The second dataset we'll use is a CSV file named `abalone.csv`, which contains data on physicak measurements of abalone shells used to determine the age of the abalone.  It contains the following columns:\n",
        "\n",
        "- `Sex`: M, F, and I (infant) - (removed for our purposes)\n",
        "- `Length`: Longest shell measurement (mm)\n",
        "- `Diameter`: Perpendicular to length (mm)\n",
        "- `Height`: with meat in shell (mm)\n",
        "- `Whole weight`: whole abalone (grams)\n",
        "- `Shucked weight`: weight of meat (grams)\n",
        "- `Viscera weight`: gut weight (grams)\n",
        "- `Shell weight`: after being dried (grams)\n",
        "- `Rings`: +1.5 gives the age in years\n",
        "\n",
        "\t"
      ]
    },
    {
      "cell_type": "markdown",
      "metadata": {
        "id": "HwNnn3ZKrh1o",
        "colab_type": "text"
      },
      "source": [
        "### **Get the dataset**"
      ]
    },
    {
      "cell_type": "code",
      "metadata": {
        "id": "K4LeaM4PzyAh",
        "colab_type": "code",
        "colab": {
          "base_uri": "https://localhost:8080/",
          "height": 204
        },
        "outputId": "b270b1e2-e992-452e-c5a0-4b0daa2e5611"
      },
      "source": [
        "# Read in the dataset\n",
        "abalone = pd.read_csv('https://github.com/datacamp/Applied-Machine-Learning-Ensemble-Modeling-live-training/blob/master/data/abalone.csv?raw=true')\n",
        "\n",
        "# Print header\n",
        "abalone.head()"
      ],
      "execution_count": 6,
      "outputs": [
        {
          "output_type": "execute_result",
          "data": {
            "text/html": [
              "<div>\n",
              "<style scoped>\n",
              "    .dataframe tbody tr th:only-of-type {\n",
              "        vertical-align: middle;\n",
              "    }\n",
              "\n",
              "    .dataframe tbody tr th {\n",
              "        vertical-align: top;\n",
              "    }\n",
              "\n",
              "    .dataframe thead th {\n",
              "        text-align: right;\n",
              "    }\n",
              "</style>\n",
              "<table border=\"1\" class=\"dataframe\">\n",
              "  <thead>\n",
              "    <tr style=\"text-align: right;\">\n",
              "      <th></th>\n",
              "      <th>Sex</th>\n",
              "      <th>Length</th>\n",
              "      <th>Diameter</th>\n",
              "      <th>Height</th>\n",
              "      <th>Whole weight</th>\n",
              "      <th>Shucked weight</th>\n",
              "      <th>Viscera weight</th>\n",
              "      <th>Shell weight</th>\n",
              "      <th>Rings</th>\n",
              "    </tr>\n",
              "  </thead>\n",
              "  <tbody>\n",
              "    <tr>\n",
              "      <th>0</th>\n",
              "      <td>M</td>\n",
              "      <td>0.455</td>\n",
              "      <td>0.365</td>\n",
              "      <td>0.095</td>\n",
              "      <td>0.5140</td>\n",
              "      <td>0.2245</td>\n",
              "      <td>0.1010</td>\n",
              "      <td>0.150</td>\n",
              "      <td>15</td>\n",
              "    </tr>\n",
              "    <tr>\n",
              "      <th>1</th>\n",
              "      <td>M</td>\n",
              "      <td>0.350</td>\n",
              "      <td>0.265</td>\n",
              "      <td>0.090</td>\n",
              "      <td>0.2255</td>\n",
              "      <td>0.0995</td>\n",
              "      <td>0.0485</td>\n",
              "      <td>0.070</td>\n",
              "      <td>7</td>\n",
              "    </tr>\n",
              "    <tr>\n",
              "      <th>2</th>\n",
              "      <td>F</td>\n",
              "      <td>0.530</td>\n",
              "      <td>0.420</td>\n",
              "      <td>0.135</td>\n",
              "      <td>0.6770</td>\n",
              "      <td>0.2565</td>\n",
              "      <td>0.1415</td>\n",
              "      <td>0.210</td>\n",
              "      <td>9</td>\n",
              "    </tr>\n",
              "    <tr>\n",
              "      <th>3</th>\n",
              "      <td>M</td>\n",
              "      <td>0.440</td>\n",
              "      <td>0.365</td>\n",
              "      <td>0.125</td>\n",
              "      <td>0.5160</td>\n",
              "      <td>0.2155</td>\n",
              "      <td>0.1140</td>\n",
              "      <td>0.155</td>\n",
              "      <td>10</td>\n",
              "    </tr>\n",
              "    <tr>\n",
              "      <th>4</th>\n",
              "      <td>I</td>\n",
              "      <td>0.330</td>\n",
              "      <td>0.255</td>\n",
              "      <td>0.080</td>\n",
              "      <td>0.2050</td>\n",
              "      <td>0.0895</td>\n",
              "      <td>0.0395</td>\n",
              "      <td>0.055</td>\n",
              "      <td>7</td>\n",
              "    </tr>\n",
              "  </tbody>\n",
              "</table>\n",
              "</div>"
            ],
            "text/plain": [
              "  Sex  Length  Diameter  ...  Viscera weight   Shell weight  Rings\n",
              "0   M   0.455     0.365  ...          0.1010          0.150     15\n",
              "1   M   0.350     0.265  ...          0.0485          0.070      7\n",
              "2   F   0.530     0.420  ...          0.1415          0.210      9\n",
              "3   M   0.440     0.365  ...          0.1140          0.155     10\n",
              "4   I   0.330     0.255  ...          0.0395          0.055      7\n",
              "\n",
              "[5 rows x 9 columns]"
            ]
          },
          "metadata": {
            "tags": []
          },
          "execution_count": 6
        }
      ]
    },
    {
      "cell_type": "code",
      "metadata": {
        "id": "vV_rA4Y4upGp",
        "colab_type": "code",
        "colab": {
          "base_uri": "https://localhost:8080/",
          "height": 289
        },
        "outputId": "5238552f-1898-4d35-f0b0-3de6acc8b9f1"
      },
      "source": [
        "abalone.info()"
      ],
      "execution_count": 23,
      "outputs": [
        {
          "output_type": "stream",
          "text": [
            "<class 'pandas.core.frame.DataFrame'>\n",
            "RangeIndex: 4177 entries, 0 to 4176\n",
            "Data columns (total 9 columns):\n",
            " #   Column          Non-Null Count  Dtype  \n",
            "---  ------          --------------  -----  \n",
            " 0   Sex             4177 non-null   object \n",
            " 1   Length          4177 non-null   float64\n",
            " 2   Diameter        4177 non-null   float64\n",
            " 3   Height          4177 non-null   float64\n",
            " 4   Whole weight    4177 non-null   float64\n",
            " 5   Shucked weight  4177 non-null   float64\n",
            " 6   Viscera weight  4177 non-null   float64\n",
            " 7    Shell weight   4177 non-null   float64\n",
            " 8   Rings           4177 non-null   int64  \n",
            "dtypes: float64(7), int64(1), object(1)\n",
            "memory usage: 293.8+ KB\n"
          ],
          "name": "stdout"
        }
      ]
    },
    {
      "cell_type": "markdown",
      "metadata": {
        "id": "J-OGF_7bupzn",
        "colab_type": "text"
      },
      "source": [
        "## **Getting started with Stacking Regressor**"
      ]
    },
    {
      "cell_type": "code",
      "metadata": {
        "id": "ftxDhyDq2lrH",
        "colab_type": "code",
        "colab": {}
      },
      "source": [
        "# baseline and good result for Abalone\n",
        "from numpy import mean\n",
        "from numpy import std\n",
        "from numpy import absolute\n",
        "from pandas import read_csv\n",
        "from sklearn.model_selection import cross_val_score\n",
        "from sklearn.model_selection import RepeatedKFold\n",
        "from sklearn.dummy import DummyRegressor\n",
        "from sklearn.svm import SVR"
      ],
      "execution_count": 8,
      "outputs": []
    },
    {
      "cell_type": "code",
      "metadata": {
        "id": "xPfVhWzRrm_w",
        "colab_type": "code",
        "colab": {
          "base_uri": "https://localhost:8080/",
          "height": 34
        },
        "outputId": "9ae3a406-f46b-482e-fc01-97258c2428ec"
      },
      "source": [
        "data = abalone.values\n",
        "X, y = data[:, 1:-1], data[:, -1]\n",
        "print('Shape: %s, %s' % (X.shape,y.shape))"
      ],
      "execution_count": 9,
      "outputs": [
        {
          "output_type": "stream",
          "text": [
            "Shape: (4177, 7), (4177,)\n"
          ],
          "name": "stdout"
        }
      ]
    },
    {
      "cell_type": "code",
      "metadata": {
        "id": "fZ6CHfsVrpE7",
        "colab_type": "code",
        "colab": {}
      },
      "source": [
        "# minimally prepare dataset\n",
        "y = y.astype('float32')"
      ],
      "execution_count": 10,
      "outputs": []
    },
    {
      "cell_type": "code",
      "metadata": {
        "id": "jAJdcu_Hrrg8",
        "colab_type": "code",
        "colab": {
          "base_uri": "https://localhost:8080/",
          "height": 34
        },
        "outputId": "1de4668e-bfc4-4d50-eb3d-894aecdf50bf"
      },
      "source": [
        "# evaluate naive\n",
        "naive = DummyRegressor(strategy='median')\n",
        "cv = RepeatedKFold(n_splits=10, n_repeats=3, random_state=1)\n",
        "n_scores = cross_val_score(naive, X, y, scoring='neg_mean_absolute_error', cv=cv, n_jobs=-1, error_score='raise')\n",
        "n_scores = absolute(n_scores)\n",
        "print('Baseline: %.3f (%.3f)' % (mean(n_scores), std(n_scores)))"
      ],
      "execution_count": 20,
      "outputs": [
        {
          "output_type": "stream",
          "text": [
            "Baseline: 2.372 (0.119)\n"
          ],
          "name": "stdout"
        }
      ]
    },
    {
      "cell_type": "code",
      "metadata": {
        "id": "cFip40FPrvOn",
        "colab_type": "code",
        "colab": {
          "base_uri": "https://localhost:8080/",
          "height": 34
        },
        "outputId": "1b1c3755-6441-474c-e734-1549d1cbf29d"
      },
      "source": [
        "# evaluate model\n",
        "model = SVR(kernel='rbf',gamma='scale',C=10)\n",
        "m_scores = cross_val_score(model, X, y, scoring='neg_mean_absolute_error', cv=cv, n_jobs=-1, error_score='raise')\n",
        "m_scores = absolute(m_scores)\n",
        "print('Good: %.3f (%.3f)' % (mean(m_scores), std(m_scores)))"
      ],
      "execution_count": 12,
      "outputs": [
        {
          "output_type": "stream",
          "text": [
            "Good: 1.483 (0.075)\n"
          ],
          "name": "stdout"
        }
      ]
    },
    {
      "cell_type": "code",
      "metadata": {
        "id": "jxbxTPkPrkNb",
        "colab_type": "code",
        "colab": {}
      },
      "source": [
        "# Compare machine learning models for regression\n",
        "from sklearn.model_selection import cross_val_score\n",
        "from sklearn.model_selection import RepeatedKFold\n",
        "from sklearn.linear_model import LinearRegression\n",
        "from sklearn.neighbors import KNeighborsRegressor\n",
        "from sklearn.tree import DecisionTreeRegressor\n",
        "from sklearn.svm import SVR\n",
        "from sklearn.ensemble import StackingRegressor"
      ],
      "execution_count": 13,
      "outputs": []
    },
    {
      "cell_type": "code",
      "metadata": {
        "id": "PtYbhE_ps4yo",
        "colab_type": "code",
        "colab": {}
      },
      "source": [
        "# Get a list of models to evaluate\n",
        "def get_models():\n",
        "  models = dict()\n",
        "  models['KNN'] = KNeighborsRegressor()\n",
        "  models['DT'] = DecisionTreeRegressor()\n",
        "  models['SVM'] = SVR()\n",
        "  models['Stacking'] = get_stacking()\n",
        "  return models"
      ],
      "execution_count": 14,
      "outputs": []
    },
    {
      "cell_type": "code",
      "metadata": {
        "id": "qoRNxZSj72bZ",
        "colab_type": "code",
        "colab": {}
      },
      "source": [
        "# Create a stacking ensemble of models\n",
        "def get_stacking():\n",
        "\t# Define the base models\n",
        "\tlayer1 = list()\n",
        "\tlayer1.append(('KNN', KNeighborsRegressor()))\n",
        "\tlayer1.append(('DT', DecisionTreeRegressor()))\n",
        "\tlayer1.append(('SVM', SVR()))\n",
        "\t# Define meta learner model\n",
        "\tlayer2 = LinearRegression()\n",
        "\t# define the stacking ensemble\n",
        "\tmodel = StackingRegressor(estimators=layer1, final_estimator=layer2, cv=5)\n",
        "\treturn model"
      ],
      "execution_count": 15,
      "outputs": []
    },
    {
      "cell_type": "code",
      "metadata": {
        "id": "H95M82gks6EL",
        "colab_type": "code",
        "colab": {}
      },
      "source": [
        "# Evaluate a given model using cross-validation\n",
        "def evaluate_model(model):\n",
        "\tcv = RepeatedKFold(n_splits=10, n_repeats=3, random_state=1)\n",
        "\tscores = cross_val_score(model, X, y, scoring='neg_mean_absolute_error', cv=cv, n_jobs=-1, error_score='raise')\n",
        "\treturn scores"
      ],
      "execution_count": 16,
      "outputs": []
    },
    {
      "cell_type": "code",
      "metadata": {
        "id": "2C6Hw-wj56eK",
        "colab_type": "code",
        "colab": {}
      },
      "source": [
        "# Get the models to evaluate\n",
        "models = get_models()"
      ],
      "execution_count": 17,
      "outputs": []
    },
    {
      "cell_type": "code",
      "metadata": {
        "id": "BZl3DjmU58Lm",
        "colab_type": "code",
        "colab": {
          "base_uri": "https://localhost:8080/",
          "height": 350
        },
        "outputId": "9e02f585-10e7-4efe-9ecc-5bc2ccb1a262"
      },
      "source": [
        "# Evaluate the models and store results\n",
        "results, names = list(), list()\n",
        "for name, model in models.items():\n",
        "\tscores = evaluate_model(model)\n",
        "\tresults.append(scores)\n",
        "\tnames.append(name)\n",
        "\tprint('>%s %.3f (%.3f)' % (name, mean(scores), std(scores)))\n",
        "# Plot model performance for comparison\n",
        "sns.boxplot(x=names, y=results, showmeans=True)"
      ],
      "execution_count": 209,
      "outputs": [
        {
          "output_type": "stream",
          "text": [
            ">KNN -1.597 (0.064)\n",
            ">DT -2.096 (0.111)\n",
            ">SVM -1.518 (0.077)\n",
            ">Stacking -1.536 (0.069)\n"
          ],
          "name": "stdout"
        },
        {
          "output_type": "execute_result",
          "data": {
            "text/plain": [
              "<matplotlib.axes._subplots.AxesSubplot at 0x7f083bec17f0>"
            ]
          },
          "metadata": {
            "tags": []
          },
          "execution_count": 209
        },
        {
          "output_type": "display_data",
          "data": {
            "image/png": "[encoded data removed]",
            "text/plain": [
              "<Figure size 432x288 with 1 Axes>"
            ]
          },
          "metadata": {
            "tags": [],
            "needs_background": "light"
          }
        }
      ]
    },
    {
      "cell_type": "markdown",
      "metadata": {
        "id": "N9DZ7iyZFxXo",
        "colab_type": "text"
      },
      "source": [
        "### **Double Stacking - 2 Layers**"
      ]
    },
    {
      "cell_type": "code",
      "metadata": {
        "id": "fXvUmmQQF6vq",
        "colab_type": "code",
        "colab": {}
      },
      "source": [
        "# Create a stacking ensemble of models\n",
        "def get_stacking():\n",
        "\t# Define the base models\n",
        "  layer1, layer2 = list(), list()\n",
        "  layer1.append(('KNN', KNeighborsRegressor()))\n",
        "  layer1.append(('DT', DecisionTreeRegressor()))\n",
        "  layer1.append(('SVM', SVR()))\n",
        "  layer2.append(('KNN', KNeighborsRegressor()))\n",
        "  layer2.append(('DT', DecisionTreeRegressor()))\n",
        "  layer2.append(('SVM', SVR()))\n",
        "\t# Define meta learner model\n",
        "  layer3 = StackingRegressor(estimators=layer2, final_estimator=LinearRegression(), cv=5)\n",
        "\t# define the stacking ensemble\n",
        "  model = StackingRegressor(estimators=layer1, final_estimator=layer3, cv=5)\n",
        "  return model"
      ],
      "execution_count": 224,
      "outputs": []
    },
    {
      "cell_type": "code",
      "metadata": {
        "id": "CnMMqOJ16Bft",
        "colab_type": "code",
        "colab": {}
      },
      "source": [
        "# Get the models to evaluate\n",
        "models = get_models()"
      ],
      "execution_count": 225,
      "outputs": []
    },
    {
      "cell_type": "code",
      "metadata": {
        "id": "kvzSjLOEIKUx",
        "colab_type": "code",
        "colab": {
          "base_uri": "https://localhost:8080/",
          "height": 350
        },
        "outputId": "4de05f0c-afb1-4a9b-a29b-b049c9bbd8a9"
      },
      "source": [
        "# Evaluate the models and store results\n",
        "results, names = list(), list()\n",
        "for name, model in models.items():\n",
        "\tscores = evaluate_model(model)\n",
        "\tresults.append(scores)\n",
        "\tnames.append(name)\n",
        "\tprint('>%s %.3f (%.3f)' % (name, mean(scores), std(scores)))\n",
        "# Plot model performance for comparison\n",
        "sns.boxplot(x=names, y=results, showmeans=True)"
      ],
      "execution_count": 226,
      "outputs": [
        {
          "output_type": "stream",
          "text": [
            ">KNN -1.597 (0.064)\n",
            ">DT -2.101 (0.115)\n",
            ">SVM -1.518 (0.077)\n",
            ">Stacking -1.545 (0.074)\n"
          ],
          "name": "stdout"
        },
        {
          "output_type": "execute_result",
          "data": {
            "text/plain": [
              "<matplotlib.axes._subplots.AxesSubplot at 0x7f083bdf5ba8>"
            ]
          },
          "metadata": {
            "tags": []
          },
          "execution_count": 226
        },
        {
          "output_type": "display_data",
          "data": {
            "image/png": "[encoded data removed]",
            "text/plain": [
              "<Figure size 432x288 with 1 Axes>"
            ]
          },
          "metadata": {
            "tags": [],
            "needs_background": "light"
          }
        }
      ]
    }
  ]
}