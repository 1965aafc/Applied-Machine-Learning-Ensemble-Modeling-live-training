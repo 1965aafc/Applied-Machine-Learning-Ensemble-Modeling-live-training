{
  "nbformat": 4,
  "nbformat_minor": 0,
  "metadata": {
    "colab": {
      "name": "python_live_session_template.ipynb",
      "provenance": []
    },
    "kernelspec": {
      "display_name": "Python 3",
      "language": "python",
      "name": "python3"
    },
    "language_info": {
      "codemirror_mode": {
        "name": "ipython",
        "version": 3
      },
      "file_extension": ".py",
      "mimetype": "text/x-python",
      "name": "python",
      "nbconvert_exporter": "python",
      "pygments_lexer": "ipython3",
      "version": "3.7.1"
    }
  },
  "cells": [
    {
      "cell_type": "markdown",
      "metadata": {
        "colab_type": "text",
        "id": "6Ijg5wUCTQYG"
      },
      "source": [
        "<p align=\"center\">\n",
        "<img src=\"https://github.com/datacamp/python-live-training-template/blob/master/assets/datacamp.svg?raw=True\" alt = \"DataCamp icon\" width=\"50%\">\n",
        "</p>\n",
        "<br><br>\n",
        "\n",
        "\n",
        "## **Applied Machine Learning - Ensemble Modeling Live Training**\n",
        "\n",
        "Welcome to this hands-on training where you will immerse yourself in applied machine learning in Python where we'll explore model stacking. Using `sklearn.ensemble`, we'll learn how to create layers that are stacking-ready.\n",
        "\n",
        "The foundations of model stacking:\n",
        "\n",
        "* Create various types of baseline models, including linear and logistic regression using Scikit-Learn, for comparison to ensemble methods.\n",
        "* Build layers, then stack them up.\n",
        "* Calculate performance metrics.\n",
        "\n",
        "\n",
        "\n",
        "---\n",
        "\n",
        "\n",
        "\n",
        "## **1st Dataset**\n",
        "\n",
        "\n",
        "The first dataset we'll use is a CSV file named `pima-indians-diabetes.csv`, which contains data on females of Pima Indian heritage that are at least 21 years old. It contains the following columns:\n",
        "\n",
        "- `n_preg`: Number of pregnancies\n",
        "- `pl_glucose`: Plasma glucose concentration 2 hours after an oral glucose tolerance test\n",
        "- `dia_bp`: Diastolic blood pressure (mm Hg)\n",
        "- `tri_thick`: Triceps skin fold thickness (mm)\n",
        "- `serum_ins`: 2-Hour serum insulin (mu U/ml)\n",
        "- `bmi`: Body mass index (weight in kg/(height in m)^2)\n",
        "- `diab_ped`: Diabetes pedigree function\n",
        "- `age`: Age (years)\n",
        "- `class`: Class variable (0 or 1)\n"
      ]
    },
    {
      "cell_type": "code",
      "metadata": {
        "colab_type": "code",
        "id": "EMQfyC7GUNhT",
        "colab": {}
      },
      "source": [
        "# Import libraries\n",
        "import pandas as pd\n",
        "import numpy as np\n",
        "from numpy import mean\n",
        "from numpy import std\n",
        "import matplotlib.pyplot as plt\n",
        "import seaborn as sns\n",
        "from collections import Counter\n",
        "from sklearn.preprocessing import LabelEncoder\n",
        "from sklearn.model_selection import cross_val_score\n",
        "from sklearn.model_selection import RepeatedStratifiedKFold\n",
        "from sklearn.dummy import DummyClassifier\n",
        "from sklearn.linear_model import LogisticRegression"
      ],
      "execution_count": 33,
      "outputs": []
    },
    {
      "cell_type": "code",
      "metadata": {
        "colab_type": "code",
        "id": "l8t_EwRNZPLB",
        "colab": {}
      },
      "source": [
        "# Read in the dataset as Pandas DataFrame\n",
        "diabetes = pd.read_csv('https://github.com/datacamp/Applied-Machine-Learning-Ensemble-Modeling-live-training/blob/master/data/pima-indians-diabetes.csv?raw=true')"
      ],
      "execution_count": 26,
      "outputs": []
    },
    {
      "cell_type": "code",
      "metadata": {
        "id": "PRJPuinPZpGA",
        "colab_type": "code",
        "colab": {
          "base_uri": "https://localhost:8080/",
          "height": 289
        },
        "outputId": "b8fa3a61-422d-4cda-fae3-aedfd1876ad8"
      },
      "source": [
        "# Look at data using the info() function\n",
        "diabetes.info()"
      ],
      "execution_count": 27,
      "outputs": [
        {
          "output_type": "stream",
          "text": [
            "<class 'pandas.core.frame.DataFrame'>\n",
            "RangeIndex: 768 entries, 0 to 767\n",
            "Data columns (total 9 columns):\n",
            " #   Column      Non-Null Count  Dtype  \n",
            "---  ------      --------------  -----  \n",
            " 0   n_preg      768 non-null    int64  \n",
            " 1   pl_glucose  768 non-null    int64  \n",
            " 2   dia_bp      768 non-null    int64  \n",
            " 3   tri_thick   768 non-null    int64  \n",
            " 4   serum_ins   768 non-null    int64  \n",
            " 5   bmi         768 non-null    float64\n",
            " 6   diab_ped    768 non-null    float64\n",
            " 7   age         768 non-null    int64  \n",
            " 8   class       768 non-null    int64  \n",
            "dtypes: float64(2), int64(7)\n",
            "memory usage: 54.1 KB\n"
          ],
          "name": "stdout"
        }
      ]
    },
    {
      "cell_type": "markdown",
      "metadata": {
        "id": "C6OVOkU80oKP",
        "colab_type": "text"
      },
      "source": [
        "## **Observations:** \n",
        "- The `info()` function is critical to beginning to understand your data.  Here, there are no missing values.  However, that is not typical.\n",
        "- There is a mixture of integers and floats with the first 5 columns being `int64`, the next 2 `float64` and the last 2 'int64`."
      ]
    },
    {
      "cell_type": "code",
      "metadata": {
        "id": "E6UtlpG_Zo50",
        "colab_type": "code",
        "colab": {
          "base_uri": "https://localhost:8080/",
          "height": 297
        },
        "outputId": "3636660b-b684-4c30-bf3b-62bdd0b7776e"
      },
      "source": [
        "# Read in the dataset as Pandas DataFrame\n",
        "# Look at data using the info() function\n",
        "# Look at data using the describe() function\n",
        "diabetes.describe()"
      ],
      "execution_count": 28,
      "outputs": [
        {
          "output_type": "execute_result",
          "data": {
            "text/html": [
              "<div>\n",
              "<style scoped>\n",
              "    .dataframe tbody tr th:only-of-type {\n",
              "        vertical-align: middle;\n",
              "    }\n",
              "\n",
              "    .dataframe tbody tr th {\n",
              "        vertical-align: top;\n",
              "    }\n",
              "\n",
              "    .dataframe thead th {\n",
              "        text-align: right;\n",
              "    }\n",
              "</style>\n",
              "<table border=\"1\" class=\"dataframe\">\n",
              "  <thead>\n",
              "    <tr style=\"text-align: right;\">\n",
              "      <th></th>\n",
              "      <th>n_preg</th>\n",
              "      <th>pl_glucose</th>\n",
              "      <th>dia_bp</th>\n",
              "      <th>tri_thick</th>\n",
              "      <th>serum_ins</th>\n",
              "      <th>bmi</th>\n",
              "      <th>diab_ped</th>\n",
              "      <th>age</th>\n",
              "      <th>class</th>\n",
              "    </tr>\n",
              "  </thead>\n",
              "  <tbody>\n",
              "    <tr>\n",
              "      <th>count</th>\n",
              "      <td>768.000000</td>\n",
              "      <td>768.000000</td>\n",
              "      <td>768.000000</td>\n",
              "      <td>768.000000</td>\n",
              "      <td>768.000000</td>\n",
              "      <td>768.000000</td>\n",
              "      <td>768.000000</td>\n",
              "      <td>768.000000</td>\n",
              "      <td>768.000000</td>\n",
              "    </tr>\n",
              "    <tr>\n",
              "      <th>mean</th>\n",
              "      <td>3.845052</td>\n",
              "      <td>120.894531</td>\n",
              "      <td>69.105469</td>\n",
              "      <td>20.536458</td>\n",
              "      <td>79.799479</td>\n",
              "      <td>31.992578</td>\n",
              "      <td>0.471876</td>\n",
              "      <td>33.240885</td>\n",
              "      <td>0.348958</td>\n",
              "    </tr>\n",
              "    <tr>\n",
              "      <th>std</th>\n",
              "      <td>3.369578</td>\n",
              "      <td>31.972618</td>\n",
              "      <td>19.355807</td>\n",
              "      <td>15.952218</td>\n",
              "      <td>115.244002</td>\n",
              "      <td>7.884160</td>\n",
              "      <td>0.331329</td>\n",
              "      <td>11.760232</td>\n",
              "      <td>0.476951</td>\n",
              "    </tr>\n",
              "    <tr>\n",
              "      <th>min</th>\n",
              "      <td>0.000000</td>\n",
              "      <td>0.000000</td>\n",
              "      <td>0.000000</td>\n",
              "      <td>0.000000</td>\n",
              "      <td>0.000000</td>\n",
              "      <td>0.000000</td>\n",
              "      <td>0.078000</td>\n",
              "      <td>21.000000</td>\n",
              "      <td>0.000000</td>\n",
              "    </tr>\n",
              "    <tr>\n",
              "      <th>25%</th>\n",
              "      <td>1.000000</td>\n",
              "      <td>99.000000</td>\n",
              "      <td>62.000000</td>\n",
              "      <td>0.000000</td>\n",
              "      <td>0.000000</td>\n",
              "      <td>27.300000</td>\n",
              "      <td>0.243750</td>\n",
              "      <td>24.000000</td>\n",
              "      <td>0.000000</td>\n",
              "    </tr>\n",
              "    <tr>\n",
              "      <th>50%</th>\n",
              "      <td>3.000000</td>\n",
              "      <td>117.000000</td>\n",
              "      <td>72.000000</td>\n",
              "      <td>23.000000</td>\n",
              "      <td>30.500000</td>\n",
              "      <td>32.000000</td>\n",
              "      <td>0.372500</td>\n",
              "      <td>29.000000</td>\n",
              "      <td>0.000000</td>\n",
              "    </tr>\n",
              "    <tr>\n",
              "      <th>75%</th>\n",
              "      <td>6.000000</td>\n",
              "      <td>140.250000</td>\n",
              "      <td>80.000000</td>\n",
              "      <td>32.000000</td>\n",
              "      <td>127.250000</td>\n",
              "      <td>36.600000</td>\n",
              "      <td>0.626250</td>\n",
              "      <td>41.000000</td>\n",
              "      <td>1.000000</td>\n",
              "    </tr>\n",
              "    <tr>\n",
              "      <th>max</th>\n",
              "      <td>17.000000</td>\n",
              "      <td>199.000000</td>\n",
              "      <td>122.000000</td>\n",
              "      <td>99.000000</td>\n",
              "      <td>846.000000</td>\n",
              "      <td>67.100000</td>\n",
              "      <td>2.420000</td>\n",
              "      <td>81.000000</td>\n",
              "      <td>1.000000</td>\n",
              "    </tr>\n",
              "  </tbody>\n",
              "</table>\n",
              "</div>"
            ],
            "text/plain": [
              "           n_preg  pl_glucose      dia_bp  ...    diab_ped         age       class\n",
              "count  768.000000  768.000000  768.000000  ...  768.000000  768.000000  768.000000\n",
              "mean     3.845052  120.894531   69.105469  ...    0.471876   33.240885    0.348958\n",
              "std      3.369578   31.972618   19.355807  ...    0.331329   11.760232    0.476951\n",
              "min      0.000000    0.000000    0.000000  ...    0.078000   21.000000    0.000000\n",
              "25%      1.000000   99.000000   62.000000  ...    0.243750   24.000000    0.000000\n",
              "50%      3.000000  117.000000   72.000000  ...    0.372500   29.000000    0.000000\n",
              "75%      6.000000  140.250000   80.000000  ...    0.626250   41.000000    1.000000\n",
              "max     17.000000  199.000000  122.000000  ...    2.420000   81.000000    1.000000\n",
              "\n",
              "[8 rows x 9 columns]"
            ]
          },
          "metadata": {
            "tags": []
          },
          "execution_count": 28
        }
      ]
    },
    {
      "cell_type": "markdown",
      "metadata": {
        "id": "bCK9W_gk1HG8",
        "colab_type": "text"
      },
      "source": [
        "\n",
        "## **Observations:** \n",
        "- The `.describe()` function gives the summary statistics of the data.  Notice that the min of the 1st six columns is zero.  Even though there are no missing values, this is indicative of the measurements for those features having not been captured.\n",
        "- Although we previously saw there is a mixture of integer and float data types (as seen with `.info()`), the printout makes it appear as if all values are float.  "
      ]
    },
    {
      "cell_type": "code",
      "metadata": {
        "id": "UE5F_JUQ2X-0",
        "colab_type": "code",
        "colab": {
          "base_uri": "https://localhost:8080/",
          "height": 204
        },
        "outputId": "f706cfa5-d951-43d1-a2a2-10fb25d87ba1"
      },
      "source": [
        "# Print the first 5 rows of the data using the head() function\n",
        "diabetes.head()"
      ],
      "execution_count": 36,
      "outputs": [
        {
          "output_type": "execute_result",
          "data": {
            "text/html": [
              "<div>\n",
              "<style scoped>\n",
              "    .dataframe tbody tr th:only-of-type {\n",
              "        vertical-align: middle;\n",
              "    }\n",
              "\n",
              "    .dataframe tbody tr th {\n",
              "        vertical-align: top;\n",
              "    }\n",
              "\n",
              "    .dataframe thead th {\n",
              "        text-align: right;\n",
              "    }\n",
              "</style>\n",
              "<table border=\"1\" class=\"dataframe\">\n",
              "  <thead>\n",
              "    <tr style=\"text-align: right;\">\n",
              "      <th></th>\n",
              "      <th>n_preg</th>\n",
              "      <th>pl_glucose</th>\n",
              "      <th>dia_bp</th>\n",
              "      <th>tri_thick</th>\n",
              "      <th>serum_ins</th>\n",
              "      <th>bmi</th>\n",
              "      <th>diab_ped</th>\n",
              "      <th>age</th>\n",
              "      <th>class</th>\n",
              "    </tr>\n",
              "  </thead>\n",
              "  <tbody>\n",
              "    <tr>\n",
              "      <th>0</th>\n",
              "      <td>6</td>\n",
              "      <td>148</td>\n",
              "      <td>72</td>\n",
              "      <td>35</td>\n",
              "      <td>0</td>\n",
              "      <td>33.6</td>\n",
              "      <td>0.627</td>\n",
              "      <td>50</td>\n",
              "      <td>1</td>\n",
              "    </tr>\n",
              "    <tr>\n",
              "      <th>1</th>\n",
              "      <td>1</td>\n",
              "      <td>85</td>\n",
              "      <td>66</td>\n",
              "      <td>29</td>\n",
              "      <td>0</td>\n",
              "      <td>26.6</td>\n",
              "      <td>0.351</td>\n",
              "      <td>31</td>\n",
              "      <td>0</td>\n",
              "    </tr>\n",
              "    <tr>\n",
              "      <th>2</th>\n",
              "      <td>8</td>\n",
              "      <td>183</td>\n",
              "      <td>64</td>\n",
              "      <td>0</td>\n",
              "      <td>0</td>\n",
              "      <td>23.3</td>\n",
              "      <td>0.672</td>\n",
              "      <td>32</td>\n",
              "      <td>1</td>\n",
              "    </tr>\n",
              "    <tr>\n",
              "      <th>3</th>\n",
              "      <td>1</td>\n",
              "      <td>89</td>\n",
              "      <td>66</td>\n",
              "      <td>23</td>\n",
              "      <td>94</td>\n",
              "      <td>28.1</td>\n",
              "      <td>0.167</td>\n",
              "      <td>21</td>\n",
              "      <td>0</td>\n",
              "    </tr>\n",
              "    <tr>\n",
              "      <th>4</th>\n",
              "      <td>0</td>\n",
              "      <td>137</td>\n",
              "      <td>40</td>\n",
              "      <td>35</td>\n",
              "      <td>168</td>\n",
              "      <td>43.1</td>\n",
              "      <td>2.288</td>\n",
              "      <td>33</td>\n",
              "      <td>1</td>\n",
              "    </tr>\n",
              "  </tbody>\n",
              "</table>\n",
              "</div>"
            ],
            "text/plain": [
              "   n_preg  pl_glucose  dia_bp  tri_thick  serum_ins   bmi  diab_ped  age  class\n",
              "0       6         148      72         35          0  33.6     0.627   50      1\n",
              "1       1          85      66         29          0  26.6     0.351   31      0\n",
              "2       8         183      64          0          0  23.3     0.672   32      1\n",
              "3       1          89      66         23         94  28.1     0.167   21      0\n",
              "4       0         137      40         35        168  43.1     2.288   33      1"
            ]
          },
          "metadata": {
            "tags": []
          },
          "execution_count": 36
        }
      ]
    },
    {
      "cell_type": "markdown",
      "metadata": {
        "id": "A2VCIx0K2bT1",
        "colab_type": "text"
      },
      "source": [
        "\n",
        "## **Observation:**\n",
        "- Printing out the first 5 rows, we see that the data types of the columns are indeed as stated previously."
      ]
    },
    {
      "cell_type": "markdown",
      "metadata": {
        "id": "ajAzhMDc2b1D",
        "colab_type": "text"
      },
      "source": [
        "## Let's check the number in each class:\n",
        "\n",
        "This avoids getting surprised by great results that are actually a side effect of class imbalance.  This happens when the majority class far outweighs the minority class."
      ]
    },
    {
      "cell_type": "code",
      "metadata": {
        "id": "MKeXN3441-9W",
        "colab_type": "code",
        "colab": {
          "base_uri": "https://localhost:8080/",
          "height": 34
        },
        "outputId": "79ba939a-3dae-4999-8547-5fba6df088f9"
      },
      "source": [
        "# Summarize class distribution\n",
        "target = diabetes['class']\n",
        "counter = Counter(target)\n",
        "print(counter)"
      ],
      "execution_count": 39,
      "outputs": [
        {
          "output_type": "stream",
          "text": [
            "Counter({0: 500, 1: 268})\n"
          ],
          "name": "stdout"
        }
      ]
    },
    {
      "cell_type": "markdown",
      "metadata": {
        "id": "FOpbGyQw55v3",
        "colab_type": "text"
      },
      "source": [
        "## **Observation:** For every two negative cases there is one positive case, not enough of a difference to be considered class imbalance.  \n",
        "- Class imbalance tends to exist when the majority class is > 90% although there is no hard and fast rule about this threshold."
      ]
    },
    {
      "cell_type": "code",
      "metadata": {
        "id": "n5XaYl9ZZ8B5",
        "colab_type": "code",
        "colab": {}
      },
      "source": [
        "# Convert Pandas DataFrame to numpy array - Return only the values of the DataFrame with DataFrame.to_numpy()\n",
        "diabetes = diabetes.to_numpy()"
      ],
      "execution_count": 6,
      "outputs": []
    },
    {
      "cell_type": "markdown",
      "metadata": {
        "id": "MlGa9IBc7Gsr",
        "colab_type": "text"
      },
      "source": [
        "### Always verify that your X matrix and target array have the same number of rows to avoid errors during model training."
      ]
    },
    {
      "cell_type": "code",
      "metadata": {
        "id": "9FEvD6Ab6InP",
        "colab_type": "code",
        "colab": {
          "base_uri": "https://localhost:8080/",
          "height": 34
        },
        "outputId": "4a981649-40f7-42f6-9edc-79d87a3e5042"
      },
      "source": [
        "# Create X matrix and y (target) array using slicing [row_start:row_end, col_start:target_col],[row_start:row_end, target_col]\n",
        "X, y = diabetes[:, :-1], diabetes[:, -1]\n",
        "\n",
        "# Print X matrix and y (target) array dimensions using .shape \n",
        "print('Shape: %s, %s' % (X.shape, y.shape))"
      ],
      "execution_count": 7,
      "outputs": [
        {
          "output_type": "stream",
          "text": [
            "Shape: (768, 8), (768,)\n"
          ],
          "name": "stdout"
        }
      ]
    },
    {
      "cell_type": "code",
      "metadata": {
        "id": "VtDjfls8xbK0",
        "colab_type": "code",
        "colab": {}
      },
      "source": [
        "# ALWAYS set a seed for reproducibility!  Do this using np.random.seed()\n",
        "np.random.seed(42)"
      ],
      "execution_count": 8,
      "outputs": []
    },
    {
      "cell_type": "code",
      "metadata": {
        "id": "hoI7t4U-Z8LU",
        "colab_type": "code",
        "colab": {}
      },
      "source": [
        "# Convert X matrix data types to 'float32' for consistency using .astype()\n",
        "X = X.astype('float32')\n",
        "\n",
        "# Convert y (target) array to 'str' using .astype()\n",
        "y = y.astype('str')\n",
        "\n",
        "# Encode class labels in y array using dot notation with LabelEncoder().fit_transform()\n",
        "# Hint: y goes in the fit_transform function call\n",
        "y = LabelEncoder().fit_transform(y)"
      ],
      "execution_count": 9,
      "outputs": []
    },
    {
      "cell_type": "markdown",
      "metadata": {
        "id": "djXWv2xp9v1q",
        "colab_type": "text"
      },
      "source": [
        "### Don't let the `.astype('str')` throw you!  This is simply taking the class labels and label encoding them – regardless of their original format.\n",
        "\n",
        "\n"
      ]
    },
    {
      "cell_type": "markdown",
      "metadata": {
        "id": "OHHu8uz7_yVa",
        "colab_type": "text"
      },
      "source": [
        "## **Creating a Naive Classifier**\n",
        "Here we'll use the `DummyClassifier` from `sklearn`.  This creates a so-called 'naive' classifer and is simply a model that predicts a single class for all of the rows, regardless of their original class.  \n",
        "\n",
        "1. `DummyClassifier()` arguments:\n",
        " - `strategy`: Strategy to use to generate predictions.\n",
        "\n",
        "2. `RepeatedStratifiedKFold()` arguments:\n",
        " - `n_splits`: Number of folds.\n",
        " - `n_repeats`: Number of times cross-validator needs to be repeated.\n",
        " - `random_state`: Controls the generation of the random states for each repetition. Pass an int for reproducible output across multiple function calls.  (This is an equivalent argument to np.random.seed above, but will be specific to this naive model.)\n",
        "\n",
        "3. `cross_val_score()` arguments:\n",
        " - The model to use.\n",
        " - The data to fit. (X)\n",
        " - The target variable to try to predict. (y)\n",
        " - `scoring`: A single string scorer callable object/function such as 'accuracy' or 'roc_auc'.  See https://scikit-learn.org/stable/modules/model_evaluation.html#scoring-parameter for more options.\n",
        " - `cv`: Cross-validation splitting strategy (default is 5)\n",
        " - `n_jobs`: Number of CPU cores used when parallelizing.  Set to -1 helps to avoid non-convergence errors.\n",
        " - `error_score`: Value to assign to the score if an error occurs in estimator fitting. If set to ‘raise’, the error is raised. If a numeric value is given, FitFailedWarning is raised."
      ]
    },
    {
      "cell_type": "code",
      "metadata": {
        "id": "BL4huFGPZ8RA",
        "colab_type": "code",
        "colab": {
          "base_uri": "https://localhost:8080/",
          "height": 34
        },
        "outputId": "9713b758-62dc-44d8-8ee4-bc4360f298b3"
      },
      "source": [
        "# Evaluate naive\n",
        "\n",
        "# Instantiate a DummyClassifier with 'most_frequent' strategy\n",
        "naive = DummyClassifier(strategy='most_frequent')\n",
        "\n",
        "# Create RepeatedStratifiedKFold cross-validator with 10 folds, 3 repeats and a seed of 1.\n",
        "cv = RepeatedStratifiedKFold(n_splits=10, n_repeats=3, random_state=1)\n",
        "\n",
        "# Calculate accuracy using `cross_val_score()` with model instantiated, data to fit, target variable, 'accuracy' scoring, cross validator, n_jobs=-1, and error_score set to 'raise'\n",
        "n_scores = cross_val_score(naive, X, y, scoring='accuracy', cv=cv, n_jobs=-1, error_score='raise')\n",
        "\n",
        "# Print mean and standard deviation of n_scores: \n",
        "print('Naive score: %.3f (%.3f)' % (mean(n_scores), std(n_scores)))\n"
      ],
      "execution_count": 10,
      "outputs": [
        {
          "output_type": "stream",
          "text": [
            "Naive score: 0.651 (0.003)\n"
          ],
          "name": "stdout"
        }
      ]
    },
    {
      "cell_type": "markdown",
      "metadata": {
        "id": "2tEgwsOfsoB6",
        "colab_type": "text"
      },
      "source": [
        "## **Observation** \n",
        "- We want to do better than 65% accuracy to consider any other models as an improvement to a totally naive model."
      ]
    },
    {
      "cell_type": "markdown",
      "metadata": {
        "id": "l8QZOyg8s1eQ",
        "colab_type": "text"
      },
      "source": [
        "## **Creating a Baseline Classifier**\n",
        "Now we'll create a baseline classifier, one that seeks to correctly predict the class that each observation belongs to.  Since the target variable is binary, we'll instantiate a `LogisticRegression` model.\n",
        "\n",
        "1. `LogisticRegression()` arguments:\n",
        " - `solver`: Algorithm to use in the optimization problem. The `lbfgs` solver finds a (local) minimum of an objective function by using the gradient and values of the objective function.\n",
        " - `penalty`:  Used to specify the norm used in the penalization. The `l2` penalty is equivalent to Ridge Regression, shrinking the coefficients of the less important features toward (but not to) zero.  "
      ]
    },
    {
      "cell_type": "code",
      "metadata": {
        "id": "QczFUGSfbQvl",
        "colab_type": "code",
        "colab": {
          "base_uri": "https://localhost:8080/",
          "height": 34
        },
        "outputId": "8a547b46-ebb6-4630-c77f-8454fb420845"
      },
      "source": [
        "# Evaluate baseline model\n",
        "\n",
        "# Instantiate a LogisticRegression with 'lbfgs' solver and 'l2' penalty\n",
        "model = LogisticRegression(solver='lbfgs',penalty='l2')\n",
        "\n",
        "# Calculate accuracy using `cross_val_score()` with model instantiated, data to fit, target variable, 'accuracy' scoring, cross validator 'cv', and error_score set to 'raise'\n",
        "m_scores = cross_val_score(model, X, y, scoring='accuracy', cv=cv, n_jobs=-1, error_score='raise')\n",
        "\n",
        "# Print mean and standard deviation of m_scores: \n",
        "print('Baseline score: %.3f (%.3f)' % (mean(m_scores), std(m_scores)))"
      ],
      "execution_count": 11,
      "outputs": [
        {
          "output_type": "stream",
          "text": [
            "Baseline score: 0.773 (0.040)\n"
          ],
          "name": "stdout"
        }
      ]
    },
    {
      "cell_type": "markdown",
      "metadata": {
        "id": "GRUBiqqmtNA6",
        "colab_type": "text"
      },
      "source": [
        "## **Observation**\n",
        "- We want to do better than 77% with a Stacking Classifier to consider it an improvement over this baseline logistic regression model."
      ]
    },
    {
      "cell_type": "markdown",
      "metadata": {
        "colab_type": "text",
        "id": "BMYfcKeDY85K"
      },
      "source": [
        "## **Getting started with Stacking Classifier**\n",
        "\n",
        "- We're going to compare several additional baseline classifiers to see if they perform better than Logistic Regression we just trained previously.\n",
        "- We'll start by importing additional packages that we'll need."
      ]
    },
    {
      "cell_type": "code",
      "metadata": {
        "id": "eHCHmx7k5NeT",
        "colab_type": "code",
        "colab": {}
      },
      "source": [
        "# Import several other classifiers for ensemble\n",
        "from sklearn.neighbors import KNeighborsClassifier\n",
        "from sklearn.tree import DecisionTreeClassifier\n",
        "from sklearn.svm import SVC\n",
        "from sklearn.naive_bayes import GaussianNB\n",
        "from sklearn.ensemble import StackingClassifier"
      ],
      "execution_count": 12,
      "outputs": []
    },
    {
      "cell_type": "markdown",
      "metadata": {
        "id": "teQMB0aWxhcN",
        "colab_type": "text"
      },
      "source": [
        "## Create custom functions\n",
        "1. get_stacking() - This function will create the layers of our `StackingClassifier()`.\n",
        "2. get_models() - This function will create a dictionary of models to be evaluated.\n",
        "3. evaluate_model() - This function will evaluate each of the models to be compared."
      ]
    },
    {
      "cell_type": "markdown",
      "metadata": {
        "id": "wqtHxQFPvMqu",
        "colab_type": "text"
      },
      "source": [
        "## Custom function # 1: get_stacking()\n",
        "1. `StackingClassifier()` arguments:\n",
        " - `estimators`: List of baseline classifiers\n",
        " - `final_estimator`: Defined meta classifier \n",
        " - `cv`: Number of cross validations to perform."
      ]
    },
    {
      "cell_type": "code",
      "metadata": {
        "id": "YFhBv6jR6FOe",
        "colab_type": "code",
        "colab": {}
      },
      "source": [
        "# Define get_stacking():\n",
        "def get_stacking():\n",
        "\n",
        "\t# Create an empty list for the base models called layer1\n",
        "  layer1 = list()\n",
        "\n",
        "  # Append tuple with classifier name and instantiations (no arguments) for LogisticRegression, KNeighborsClassifier, DecisionTreeClassifier, SVC, and GaussianNB base models\n",
        "  # Hint: layer1.append(('ModelName', Classifier()))\n",
        "  layer1.append(('LR', LogisticRegression()))\n",
        "  layer1.append(('KNN', KNeighborsClassifier()))\n",
        "  layer1.append(('DT', DecisionTreeClassifier()))\n",
        "  layer1.append(('SVM', SVC()))\n",
        "  layer1.append(('Bayes', GaussianNB()))\n",
        "\n",
        "  # Instantiate Logistic Regression as meta learner model called layer2\n",
        "  layer2 = LogisticRegression()\n",
        "\n",
        "\t# Define StackingClassifier() called model passing layer1 model list and meta learner with 5 cross-validations\n",
        "  model = StackingClassifier(estimators=layer1, final_estimator=layer2, cv=5)\n",
        "\n",
        "  # return model\n",
        "  return model"
      ],
      "execution_count": 13,
      "outputs": []
    },
    {
      "cell_type": "markdown",
      "metadata": {
        "id": "d5szw9liyaxp",
        "colab_type": "text"
      },
      "source": [
        "## Custom function # 2: get_models()"
      ]
    },
    {
      "cell_type": "code",
      "metadata": {
        "id": "0hEJlDLB4kv5",
        "colab_type": "code",
        "colab": {}
      },
      "source": [
        "# Define get_models():\n",
        "def get_models():\n",
        "\n",
        "  # Create empty dictionary called models\n",
        "  models = dict()\n",
        "\n",
        "  # Add key:value pairs to dictionary with key as ModelName and value as instantiations (no arguments) for LogisticRegression, KNeighborsClassifier, DecisionTreeClassifier, SVC, and GaussianNB base models\n",
        "  # Hint: models['ModelName'] = Classifier()\n",
        "  models['LR'] = LogisticRegression() \n",
        "  models['KNN'] = KNeighborsClassifier() \n",
        "  models['DT'] = DecisionTreeClassifier()\n",
        "  models['SVM'] = SVC()\n",
        "  models['Bayes'] = GaussianNB()\n",
        "\n",
        "  # Add key:value pair to dictionary with key called Stacking and value that calls get_stacking() custom function\n",
        "  models['Stacking'] = get_stacking()\n",
        "\n",
        "  # return dictionary\n",
        "  return models"
      ],
      "execution_count": 14,
      "outputs": []
    },
    {
      "cell_type": "markdown",
      "metadata": {
        "id": "flSG4dH1zCTK",
        "colab_type": "text"
      },
      "source": [
        "## Custom function # 3: evaluate_model(model)"
      ]
    },
    {
      "cell_type": "code",
      "metadata": {
        "id": "mGLKRr0j5Nit",
        "colab_type": "code",
        "colab": {}
      },
      "source": [
        "# Define evaluate_model:\n",
        "def evaluate_model(model):\n",
        "\n",
        "  # Create RepeatedStratifiedKFold cross-validator with 10 folds, 3 repeats and a seed of 1.\n",
        "  cv = RepeatedStratifiedKFold(n_splits=10, n_repeats=3, random_state=1)\n",
        "\n",
        "  # Calculate accuracy using `cross_val_score()` with model instantiated, data to fit, target variable, 'accuracy' scoring, cross validator 'cv', n_jobs=-1, and error_score set to 'raise'\n",
        "  scores = cross_val_score(model, X, y, scoring='accuracy', cv=cv, n_jobs=-1, error_score='raise')\n",
        "\n",
        "  # return scores\n",
        "  return scores"
      ],
      "execution_count": 15,
      "outputs": []
    },
    {
      "cell_type": "code",
      "metadata": {
        "id": "Y5wmC-TH7B7E",
        "colab_type": "code",
        "colab": {}
      },
      "source": [
        "# Assign get_models() to a variable called models\n",
        "models = get_models()"
      ],
      "execution_count": 16,
      "outputs": []
    },
    {
      "cell_type": "markdown",
      "metadata": {
        "id": "02tyK34l2eh7",
        "colab_type": "text"
      },
      "source": [
        "## Python Dictionary Review:\n",
        "- The items() method is used to return the list with all dictionary keys with values. Parameters: This method takes no parameters. Returns: A view object that displays a list of a given dictionary's (key, value) tuple pair.\n",
        "- For our purposes, we'll use the dictionary created when we call the get_models() custom function in a for loop to iterate over each key:value pair and store the results.\n",
        "- Then, we will plot the results as a `boxplot` for comparison using `seaborn`.\n",
        "\n",
        "1. `sns.boxplot()` arguments:\n",
        " - `x`: Names of the variables in the data\n",
        " - `y`: Names of the variables in the data\n",
        " - `showmeans`: Whether or not to show mark at the mean of the data."
      ]
    },
    {
      "cell_type": "code",
      "metadata": {
        "id": "QzXmYt1o6FWh",
        "colab_type": "code",
        "colab": {
          "base_uri": "https://localhost:8080/",
          "height": 384
        },
        "outputId": "eb767496-01a1-46cf-fe31-65dad8f7db82"
      },
      "source": [
        "# Evaluate the models and store results\n",
        "# Create an empty list for the results\n",
        "results = list()\n",
        "\n",
        "# Create an empty list for the model names\n",
        "names = list()\n",
        "\n",
        "# Create a for loop that iterates over each name, model in models dictionary \n",
        "for name, model in models.items():\n",
        "\n",
        "\t# Call evaluate_model(model) and assign it to variable called scores\n",
        "\tscores = evaluate_model(model)\n",
        " \n",
        "  # Append output from scores to the results list\n",
        "\tresults.append(scores)\n",
        " \n",
        "  # Append name to the names list\n",
        "\tnames.append(name)\n",
        " \n",
        "  # Print name, mean and standard deviation of scores:\n",
        "\tprint('>%s %.3f (%.3f)' % (name, mean(scores), std(scores)))\n",
        " \n",
        "# Plot model performance for comparison using names for x and results for y and setting showmeans to True\n",
        "sns.boxplot(x=names, y=results, showmeans=True)"
      ],
      "execution_count": 17,
      "outputs": [
        {
          "output_type": "stream",
          "text": [
            ">LR 0.773 (0.040)\n",
            ">KNN 0.717 (0.040)\n",
            ">DT 0.697 (0.058)\n",
            ">SVM 0.757 (0.040)\n",
            ">Bayes 0.759 (0.055)\n",
            ">Stacking 0.765 (0.045)\n"
          ],
          "name": "stdout"
        },
        {
          "output_type": "execute_result",
          "data": {
            "text/plain": [
              "<matplotlib.axes._subplots.AxesSubplot at 0x7fe28f629e48>"
            ]
          },
          "metadata": {
            "tags": []
          },
          "execution_count": 17
        },
        {
          "output_type": "display_data",
          "data": {
            "image/png": "[encoded data removed]",
            "text/plain": [
              "<Figure size 432x288 with 1 Axes>"
            ]
          },
          "metadata": {
            "tags": [],
            "needs_background": "light"
          }
        }
      ]
    },
    {
      "cell_type": "code",
      "metadata": {
        "id": "yMZ8gTb6LGCP",
        "colab_type": "code",
        "colab": {
          "base_uri": "https://localhost:8080/",
          "height": 384
        },
        "outputId": "2d6f43da-4052-4cbf-ae12-692bca483057"
      },
      "source": [
        "# try improving with tuned hyperparams\n",
        "# Define get_stacking():\n",
        "def get_stacking():\n",
        "\n",
        "\t# Create an empty list for the base models called layer1\n",
        "  layer1 = list()\n",
        "\n",
        "  # Append tuple with classifier name and instantiations (no arguments) for LogisticRegression, KNeighborsClassifier, DecisionTreeClassifier, SVC, and GaussianNB base models\n",
        "  # Hint: layer1.append(('ModelName', Classifier()))\n",
        "  layer1.append(('LR', LogisticRegression(C=3792, random_state=42)))\n",
        "  layer1.append(('KNN', KNeighborsClassifier(n_neighbors=19)))\n",
        "  layer1.append(('DT', DecisionTreeClassifier(max_depth=80, max_features=6)))\n",
        "  layer1.append(('SVM', SVC()))\n",
        "  layer1.append(('Bayes', GaussianNB()))\n",
        "\n",
        "  # Instantiate Logistic Regression as meta learner model called layer2\n",
        "  layer2 = LogisticRegression()\n",
        "\n",
        "\t# Define StackingClassifier() called model passing layer1 model list and meta learner with 5 cross-validations\n",
        "  model = StackingClassifier(estimators=layer1, final_estimator=layer2, cv=5)\n",
        "\n",
        "  # return model\n",
        "  return model\n",
        "\n",
        "# Define get_models():\n",
        "def get_models():\n",
        "\n",
        "  # Create empty dictionary called models\n",
        "  models = dict()\n",
        "\n",
        "  # Add key:value pairs to dictionary with key as ModelName and value as instantiations (no arguments) for LogisticRegression, KNeighborsClassifier, DecisionTreeClassifier, SVC, and GaussianNB base models\n",
        "  # Hint: models['ModelName'] = Classifier()\n",
        "  models['LR'] = LogisticRegression(C=3792, random_state=42) \n",
        "  models['KNN'] = KNeighborsClassifier(n_neighbors=19) \n",
        "  models['DT'] = DecisionTreeClassifier(max_depth=80, max_features=6)\n",
        "  models['SVM'] = SVC()\n",
        "  models['Bayes'] = GaussianNB()\n",
        "\n",
        "  # Add key:value pair to dictionary with key called Stacking and value that calls get_stacking() custom function\n",
        "  models['Stacking'] = get_stacking()\n",
        "\n",
        "  # return dictionary\n",
        "  return models\n",
        "\n",
        "\n",
        "# Evaluate the models and store results\n",
        "# Create an empty list for the results\n",
        "results = list()\n",
        "\n",
        "# Create an empty list for the model names\n",
        "names = list()\n",
        "\n",
        "# Create a for loop that iterates over each name, model in models dictionary \n",
        "for name, model in models.items():\n",
        "\n",
        "\t# Call evaluate_model(model) and assign it to variable called scores\n",
        "\tscores = evaluate_model(model)\n",
        " \n",
        "  # Append output from scores to the results list\n",
        "\tresults.append(scores)\n",
        " \n",
        "  # Append name to the names list\n",
        "\tnames.append(name)\n",
        " \n",
        "  # Print name, mean and standard deviation of scores:\n",
        "\tprint('>%s %.3f (%.3f)' % (name, mean(scores), std(scores)))\n",
        " \n",
        "# Plot model performance for comparison using names for x and results for y and setting showmeans to True\n",
        "sns.boxplot(x=names, y=results, showmeans=True)\n",
        "#LR 0.773 (0.040)\n",
        "#KNN 0.717 (0.040)\n",
        "#DT 0.697 (0.058)\n",
        "#SVM 0.757 (0.040)\n",
        "#Bayes 0.759 (0.055)\n",
        "#Stacking 0.765 (0.045)"
      ],
      "execution_count": 59,
      "outputs": [
        {
          "output_type": "stream",
          "text": [
            ">LR 0.773 (0.040)\n",
            ">KNN 0.717 (0.040)\n",
            ">DT 0.700 (0.057)\n",
            ">SVM 0.757 (0.040)\n",
            ">Bayes 0.759 (0.055)\n",
            ">Stacking 0.764 (0.049)\n"
          ],
          "name": "stdout"
        },
        {
          "output_type": "execute_result",
          "data": {
            "text/plain": [
              "<matplotlib.axes._subplots.AxesSubplot at 0x7fe28f08ba20>"
            ]
          },
          "metadata": {
            "tags": []
          },
          "execution_count": 59
        },
        {
          "output_type": "display_data",
          "data": {
            "image/png": "[encoded data removed]",
            "text/plain": [
              "<Figure size 432x288 with 1 Axes>"
            ]
          },
          "metadata": {
            "tags": [],
            "needs_background": "light"
          }
        }
      ]
    },
    {
      "cell_type": "markdown",
      "metadata": {
        "id": "xUqeWsol5RAt",
        "colab_type": "text"
      },
      "source": [
        "## **Observation**\n",
        "- Recall that we want to do better than 77% with a Stacking Classifier to consider it an improvement over this baseline logistic regression model and, although close, we did not achieve that with this dataset."
      ]
    },
    {
      "cell_type": "code",
      "metadata": {
        "id": "uWLIMvaWyThD",
        "colab_type": "code",
        "colab": {
          "base_uri": "https://localhost:8080/",
          "height": 296
        },
        "outputId": "7ac124d5-73ff-4ed2-f751-1a363104363b"
      },
      "source": [
        "# Let's try tuning some hyperparameters from each of the models to find the best ones, maybe our results will improve!!!\n",
        "\n",
        "from sklearn.model_selection import cross_val_score\n",
        "#hyper parameter tuning.Selecting best K\n",
        "neighbors = [x for x in range(1,50) if x % 2 != 0]\n",
        "# empty list that will hold cv scores\n",
        "cv_scores = []\n",
        "for k in neighbors:\n",
        "    knn = KNeighborsClassifier(n_neighbors=k)\n",
        "    scores = cross_val_score(knn, X, y, cv=10, scoring='accuracy')\n",
        "    cv_scores.append(scores.mean())\n",
        "#graphical view\n",
        "#misclassification error\n",
        "MSE = [1-x for x in cv_scores]\n",
        "#optimal K\n",
        "optimal_k_index = MSE.index(min(MSE))\n",
        "optimal_k = neighbors[optimal_k_index]\n",
        "print(optimal_k)\n",
        "# plot misclassification error vs k\n",
        "plt.plot(neighbors, MSE)\n",
        "plt.xlabel('Number of Neighbors K')\n",
        "plt.ylabel('Misclassification Error')\n",
        "plt.show()"
      ],
      "execution_count": 18,
      "outputs": [
        {
          "output_type": "stream",
          "text": [
            "17\n"
          ],
          "name": "stdout"
        },
        {
          "output_type": "display_data",
          "data": {
            "image/png": "[encoded data removed]",
            "text/plain": [
              "<Figure size 432x288 with 1 Axes>"
            ]
          },
          "metadata": {
            "tags": [],
            "needs_background": "light"
          }
        }
      ]
    },
    {
      "cell_type": "code",
      "metadata": {
        "id": "fiz73Z630o4D",
        "colab_type": "code",
        "colab": {
          "base_uri": "https://localhost:8080/",
          "height": 68
        },
        "outputId": "0adf8314-6552-4842-948c-a695dae974dc"
      },
      "source": [
        "# Create first pipeline for base without reducing features.\n",
        "from sklearn.pipeline import Pipeline\n",
        "from sklearn.ensemble import RandomForestClassifier\n",
        "from sklearn.model_selection import GridSearchCV\n",
        "pipe = Pipeline([('classifier', DecisionTreeClassifier())])\n",
        "# pipe = Pipeline([('classifier', RandomForestClassifier())])\n",
        "\n",
        "# Create param grid.\n",
        "\n",
        "param_grid = [\n",
        "    # {'classifier' : [LogisticRegression()],\n",
        "    # 'classifier__penalty' : ['l1', 'l2'],\n",
        "    #'classifier__C' : np.logspace(-4, 4, 20),\n",
        "    #'classifier__solver' : ['liblinear']} ,\n",
        "    {'classifier' : [DecisionTreeClassifier()],\n",
        "    'classifier__max_depth' : list(range(10,101,10)),\n",
        "    'classifier__max_features' : list(range(6,32,5))}\n",
        "]\n",
        "\n",
        "# Create grid search object\n",
        "# this uses k-fold cv\n",
        "clf = GridSearchCV(pipe, param_grid = param_grid, cv = 5, verbose=True, n_jobs=-1)\n",
        "\n",
        "# Fit on data\n",
        "\n",
        "best_clf = clf.fit(X, y)\n",
        "\n",
        "# make a list/library and append to lists the best_clf and name as loop through the parameters, then can print it out to re-run the stacking classifier to see if improves?"
      ],
      "execution_count": 57,
      "outputs": [
        {
          "output_type": "stream",
          "text": [
            "Fitting 5 folds for each of 60 candidates, totalling 300 fits\n"
          ],
          "name": "stdout"
        },
        {
          "output_type": "stream",
          "text": [
            "[Parallel(n_jobs=-1)]: Using backend LokyBackend with 2 concurrent workers.\n",
            "[Parallel(n_jobs=-1)]: Done 300 out of 300 | elapsed:    0.6s finished\n"
          ],
          "name": "stderr"
        }
      ]
    },
    {
      "cell_type": "code",
      "metadata": {
        "id": "smAACLXbGQ6E",
        "colab_type": "code",
        "colab": {
          "base_uri": "https://localhost:8080/",
          "height": 119
        },
        "outputId": "e38a76a4-14e1-4c19-83f6-305aa7121238"
      },
      "source": [
        "best_clf.best_estimator_.get_params()['classifier']"
      ],
      "execution_count": 58,
      "outputs": [
        {
          "output_type": "execute_result",
          "data": {
            "text/plain": [
              "DecisionTreeClassifier(ccp_alpha=0.0, class_weight=None, criterion='gini',\n",
              "                       max_depth=80, max_features=6, max_leaf_nodes=None,\n",
              "                       min_impurity_decrease=0.0, min_impurity_split=None,\n",
              "                       min_samples_leaf=1, min_samples_split=2,\n",
              "                       min_weight_fraction_leaf=0.0, presort='deprecated',\n",
              "                       random_state=None, splitter='best')"
            ]
          },
          "metadata": {
            "tags": []
          },
          "execution_count": 58
        }
      ]
    },
    {
      "cell_type": "markdown",
      "metadata": {
        "id": "lj8WeJR__bUo",
        "colab_type": "text"
      },
      "source": [
        "\n",
        "\n",
        "---\n",
        "\n",
        "\n",
        "\n",
        "\n",
        "\n",
        "\n",
        "# **Stacking Regressor**"
      ]
    },
    {
      "cell_type": "code",
      "metadata": {
        "id": "ftxDhyDq2lrH",
        "colab_type": "code",
        "colab": {}
      },
      "source": [
        "# Import libraries\n",
        "from sklearn.model_selection import RepeatedKFold\n",
        "from sklearn.dummy import DummyRegressor\n",
        "from sklearn.svm import SVR"
      ],
      "execution_count": 56,
      "outputs": []
    },
    {
      "cell_type": "markdown",
      "metadata": {
        "id": "nqDHD8A_nhPB",
        "colab_type": "text"
      },
      "source": [
        "## **2nd Dataset**\n",
        "\n",
        "\n",
        "The second dataset we'll use is a CSV file named `abalone.csv`, which contains data on physical measurements of abalone shells used to determine the age of the abalone.  It contains the following columns:\n",
        "\n",
        "- `Sex`: M, F, and I (infant) - (removed for our purposes)\n",
        "- `Length`: Longest shell measurement (mm)\n",
        "- `Diameter`: Perpendicular to length (mm)\n",
        "- `Height`: with meat in shell (mm)\n",
        "- `Whole weight`: whole abalone (grams)\n",
        "- `Shucked weight`: weight of meat (grams)\n",
        "- `Viscera weight`: gut weight (grams)\n",
        "- `Shell weight`: after being dried (grams)\n",
        "- `Rings`: +1.5 gives the age in years\n",
        "\n",
        "\t"
      ]
    },
    {
      "cell_type": "markdown",
      "metadata": {
        "id": "HwNnn3ZKrh1o",
        "colab_type": "text"
      },
      "source": [
        "### **Get the dataset**"
      ]
    },
    {
      "cell_type": "code",
      "metadata": {
        "id": "K4LeaM4PzyAh",
        "colab_type": "code",
        "colab": {}
      },
      "source": [
        "# Read in the dataset as Pandas DataFrame\n",
        "abalone = pd.read_csv('https://github.com/datacamp/Applied-Machine-Learning-Ensemble-Modeling-live-training/blob/master/data/abalone.csv?raw=true')"
      ],
      "execution_count": 63,
      "outputs": []
    },
    {
      "cell_type": "code",
      "metadata": {
        "id": "KfsmhIBdApVp",
        "colab_type": "code",
        "colab": {
          "base_uri": "https://localhost:8080/",
          "height": 289
        },
        "outputId": "354f461f-c6a6-473f-8612-d0b493ec6bff"
      },
      "source": [
        "# Look at data using the info() function\n",
        "abalone.info()"
      ],
      "execution_count": 64,
      "outputs": [
        {
          "output_type": "stream",
          "text": [
            "<class 'pandas.core.frame.DataFrame'>\n",
            "RangeIndex: 4177 entries, 0 to 4176\n",
            "Data columns (total 9 columns):\n",
            " #   Column          Non-Null Count  Dtype  \n",
            "---  ------          --------------  -----  \n",
            " 0   Sex             4177 non-null   object \n",
            " 1   Length          4177 non-null   float64\n",
            " 2   Diameter        4177 non-null   float64\n",
            " 3   Height          4177 non-null   float64\n",
            " 4   Whole weight    4177 non-null   float64\n",
            " 5   Shucked weight  4177 non-null   float64\n",
            " 6   Viscera weight  4177 non-null   float64\n",
            " 7    Shell weight   4177 non-null   float64\n",
            " 8   Rings           4177 non-null   int64  \n",
            "dtypes: float64(7), int64(1), object(1)\n",
            "memory usage: 293.8+ KB\n"
          ],
          "name": "stdout"
        }
      ]
    },
    {
      "cell_type": "markdown",
      "metadata": {
        "id": "NZAeIFGwBhe6",
        "colab_type": "text"
      },
      "source": [
        "## **Observations:** \n",
        "- Here, there are no missing values.  Again, that is not typical.\n",
        "- There is a mixture of object, float, and integers with the first column being `object` (categorical), the next 7 `float64` and the last 'int64`."
      ]
    },
    {
      "cell_type": "code",
      "metadata": {
        "id": "8D4Gfh08Avb2",
        "colab_type": "code",
        "colab": {
          "base_uri": "https://localhost:8080/",
          "height": 297
        },
        "outputId": "139da6dc-489f-45f6-fe51-ce60f5fd3d85"
      },
      "source": [
        "# Look at data using the describe() function\n",
        "abalone.describe()"
      ],
      "execution_count": 65,
      "outputs": [
        {
          "output_type": "execute_result",
          "data": {
            "text/html": [
              "<div>\n",
              "<style scoped>\n",
              "    .dataframe tbody tr th:only-of-type {\n",
              "        vertical-align: middle;\n",
              "    }\n",
              "\n",
              "    .dataframe tbody tr th {\n",
              "        vertical-align: top;\n",
              "    }\n",
              "\n",
              "    .dataframe thead th {\n",
              "        text-align: right;\n",
              "    }\n",
              "</style>\n",
              "<table border=\"1\" class=\"dataframe\">\n",
              "  <thead>\n",
              "    <tr style=\"text-align: right;\">\n",
              "      <th></th>\n",
              "      <th>Length</th>\n",
              "      <th>Diameter</th>\n",
              "      <th>Height</th>\n",
              "      <th>Whole weight</th>\n",
              "      <th>Shucked weight</th>\n",
              "      <th>Viscera weight</th>\n",
              "      <th>Shell weight</th>\n",
              "      <th>Rings</th>\n",
              "    </tr>\n",
              "  </thead>\n",
              "  <tbody>\n",
              "    <tr>\n",
              "      <th>count</th>\n",
              "      <td>4177.000000</td>\n",
              "      <td>4177.000000</td>\n",
              "      <td>4177.000000</td>\n",
              "      <td>4177.000000</td>\n",
              "      <td>4177.000000</td>\n",
              "      <td>4177.000000</td>\n",
              "      <td>4177.000000</td>\n",
              "      <td>4177.000000</td>\n",
              "    </tr>\n",
              "    <tr>\n",
              "      <th>mean</th>\n",
              "      <td>0.523992</td>\n",
              "      <td>0.407881</td>\n",
              "      <td>0.139516</td>\n",
              "      <td>0.828742</td>\n",
              "      <td>0.359367</td>\n",
              "      <td>0.180594</td>\n",
              "      <td>0.238831</td>\n",
              "      <td>9.933684</td>\n",
              "    </tr>\n",
              "    <tr>\n",
              "      <th>std</th>\n",
              "      <td>0.120093</td>\n",
              "      <td>0.099240</td>\n",
              "      <td>0.041827</td>\n",
              "      <td>0.490389</td>\n",
              "      <td>0.221963</td>\n",
              "      <td>0.109614</td>\n",
              "      <td>0.139203</td>\n",
              "      <td>3.224169</td>\n",
              "    </tr>\n",
              "    <tr>\n",
              "      <th>min</th>\n",
              "      <td>0.075000</td>\n",
              "      <td>0.055000</td>\n",
              "      <td>0.000000</td>\n",
              "      <td>0.002000</td>\n",
              "      <td>0.001000</td>\n",
              "      <td>0.000500</td>\n",
              "      <td>0.001500</td>\n",
              "      <td>1.000000</td>\n",
              "    </tr>\n",
              "    <tr>\n",
              "      <th>25%</th>\n",
              "      <td>0.450000</td>\n",
              "      <td>0.350000</td>\n",
              "      <td>0.115000</td>\n",
              "      <td>0.441500</td>\n",
              "      <td>0.186000</td>\n",
              "      <td>0.093500</td>\n",
              "      <td>0.130000</td>\n",
              "      <td>8.000000</td>\n",
              "    </tr>\n",
              "    <tr>\n",
              "      <th>50%</th>\n",
              "      <td>0.545000</td>\n",
              "      <td>0.425000</td>\n",
              "      <td>0.140000</td>\n",
              "      <td>0.799500</td>\n",
              "      <td>0.336000</td>\n",
              "      <td>0.171000</td>\n",
              "      <td>0.234000</td>\n",
              "      <td>9.000000</td>\n",
              "    </tr>\n",
              "    <tr>\n",
              "      <th>75%</th>\n",
              "      <td>0.615000</td>\n",
              "      <td>0.480000</td>\n",
              "      <td>0.165000</td>\n",
              "      <td>1.153000</td>\n",
              "      <td>0.502000</td>\n",
              "      <td>0.253000</td>\n",
              "      <td>0.329000</td>\n",
              "      <td>11.000000</td>\n",
              "    </tr>\n",
              "    <tr>\n",
              "      <th>max</th>\n",
              "      <td>0.815000</td>\n",
              "      <td>0.650000</td>\n",
              "      <td>1.130000</td>\n",
              "      <td>2.825500</td>\n",
              "      <td>1.488000</td>\n",
              "      <td>0.760000</td>\n",
              "      <td>1.005000</td>\n",
              "      <td>29.000000</td>\n",
              "    </tr>\n",
              "  </tbody>\n",
              "</table>\n",
              "</div>"
            ],
            "text/plain": [
              "            Length     Diameter  ...   Shell weight        Rings\n",
              "count  4177.000000  4177.000000  ...    4177.000000  4177.000000\n",
              "mean      0.523992     0.407881  ...       0.238831     9.933684\n",
              "std       0.120093     0.099240  ...       0.139203     3.224169\n",
              "min       0.075000     0.055000  ...       0.001500     1.000000\n",
              "25%       0.450000     0.350000  ...       0.130000     8.000000\n",
              "50%       0.545000     0.425000  ...       0.234000     9.000000\n",
              "75%       0.615000     0.480000  ...       0.329000    11.000000\n",
              "max       0.815000     0.650000  ...       1.005000    29.000000\n",
              "\n",
              "[8 rows x 8 columns]"
            ]
          },
          "metadata": {
            "tags": []
          },
          "execution_count": 65
        }
      ]
    },
    {
      "cell_type": "markdown",
      "metadata": {
        "id": "WDGc7PPBBkGX",
        "colab_type": "text"
      },
      "source": [
        "## **Observations:** \n",
        "- Notice that the min of the `Height` column is zero.  Even though there are no missing values, this is indicative of the measurements for that feature having not been captured.\n",
        "- Again, the printout makes it appear as if all numeric values are float.  \n",
        "\n"
      ]
    },
    {
      "cell_type": "code",
      "metadata": {
        "id": "FVGtuWoDAvl2",
        "colab_type": "code",
        "colab": {
          "base_uri": "https://localhost:8080/",
          "height": 204
        },
        "outputId": "d34d17e7-0a8b-4dc2-d7aa-e646c695d4f8"
      },
      "source": [
        "# Print the first 5 rows of the data using the head() function\n",
        "abalone.head()"
      ],
      "execution_count": 66,
      "outputs": [
        {
          "output_type": "execute_result",
          "data": {
            "text/html": [
              "<div>\n",
              "<style scoped>\n",
              "    .dataframe tbody tr th:only-of-type {\n",
              "        vertical-align: middle;\n",
              "    }\n",
              "\n",
              "    .dataframe tbody tr th {\n",
              "        vertical-align: top;\n",
              "    }\n",
              "\n",
              "    .dataframe thead th {\n",
              "        text-align: right;\n",
              "    }\n",
              "</style>\n",
              "<table border=\"1\" class=\"dataframe\">\n",
              "  <thead>\n",
              "    <tr style=\"text-align: right;\">\n",
              "      <th></th>\n",
              "      <th>Sex</th>\n",
              "      <th>Length</th>\n",
              "      <th>Diameter</th>\n",
              "      <th>Height</th>\n",
              "      <th>Whole weight</th>\n",
              "      <th>Shucked weight</th>\n",
              "      <th>Viscera weight</th>\n",
              "      <th>Shell weight</th>\n",
              "      <th>Rings</th>\n",
              "    </tr>\n",
              "  </thead>\n",
              "  <tbody>\n",
              "    <tr>\n",
              "      <th>0</th>\n",
              "      <td>M</td>\n",
              "      <td>0.455</td>\n",
              "      <td>0.365</td>\n",
              "      <td>0.095</td>\n",
              "      <td>0.5140</td>\n",
              "      <td>0.2245</td>\n",
              "      <td>0.1010</td>\n",
              "      <td>0.150</td>\n",
              "      <td>15</td>\n",
              "    </tr>\n",
              "    <tr>\n",
              "      <th>1</th>\n",
              "      <td>M</td>\n",
              "      <td>0.350</td>\n",
              "      <td>0.265</td>\n",
              "      <td>0.090</td>\n",
              "      <td>0.2255</td>\n",
              "      <td>0.0995</td>\n",
              "      <td>0.0485</td>\n",
              "      <td>0.070</td>\n",
              "      <td>7</td>\n",
              "    </tr>\n",
              "    <tr>\n",
              "      <th>2</th>\n",
              "      <td>F</td>\n",
              "      <td>0.530</td>\n",
              "      <td>0.420</td>\n",
              "      <td>0.135</td>\n",
              "      <td>0.6770</td>\n",
              "      <td>0.2565</td>\n",
              "      <td>0.1415</td>\n",
              "      <td>0.210</td>\n",
              "      <td>9</td>\n",
              "    </tr>\n",
              "    <tr>\n",
              "      <th>3</th>\n",
              "      <td>M</td>\n",
              "      <td>0.440</td>\n",
              "      <td>0.365</td>\n",
              "      <td>0.125</td>\n",
              "      <td>0.5160</td>\n",
              "      <td>0.2155</td>\n",
              "      <td>0.1140</td>\n",
              "      <td>0.155</td>\n",
              "      <td>10</td>\n",
              "    </tr>\n",
              "    <tr>\n",
              "      <th>4</th>\n",
              "      <td>I</td>\n",
              "      <td>0.330</td>\n",
              "      <td>0.255</td>\n",
              "      <td>0.080</td>\n",
              "      <td>0.2050</td>\n",
              "      <td>0.0895</td>\n",
              "      <td>0.0395</td>\n",
              "      <td>0.055</td>\n",
              "      <td>7</td>\n",
              "    </tr>\n",
              "  </tbody>\n",
              "</table>\n",
              "</div>"
            ],
            "text/plain": [
              "  Sex  Length  Diameter  ...  Viscera weight   Shell weight  Rings\n",
              "0   M   0.455     0.365  ...          0.1010          0.150     15\n",
              "1   M   0.350     0.265  ...          0.0485          0.070      7\n",
              "2   F   0.530     0.420  ...          0.1415          0.210      9\n",
              "3   M   0.440     0.365  ...          0.1140          0.155     10\n",
              "4   I   0.330     0.255  ...          0.0395          0.055      7\n",
              "\n",
              "[5 rows x 9 columns]"
            ]
          },
          "metadata": {
            "tags": []
          },
          "execution_count": 66
        }
      ]
    },
    {
      "cell_type": "markdown",
      "metadata": {
        "id": "wnmVoSl8BmMY",
        "colab_type": "text"
      },
      "source": [
        "## **Observation:**\n",
        "- Printing out the first 5 rows, we see that the 1st column is the only non-numeric feature in this dataset and is aligned with the `object` datatype as we saw above when we called `.info()`."
      ]
    },
    {
      "cell_type": "code",
      "metadata": {
        "id": "xPfVhWzRrm_w",
        "colab_type": "code",
        "colab": {
          "base_uri": "https://localhost:8080/",
          "height": 34
        },
        "outputId": "d0296ffb-4871-4f7c-c150-b6ba6bd9e17a"
      },
      "source": [
        "# Convert Pandas DataFrame to numpy array - Return only the values of the DataFrame with DataFrame.to_numpy()\n",
        "abalone = abalone.to_numpy()\n",
        "\n",
        "# Create X matrix and y (target) array using slicing [row_start:row_end, 1:target_col],[row_start:row_end, target_col] - Removing 1st column by starting at index 1\n",
        "X, y = abalone[:, 1:-1], abalone[:, -1]\n",
        "\n",
        "# Print X matrix and y (target) array dimensions using .shape\n",
        "print('Shape: %s, %s' % (X.shape,y.shape))"
      ],
      "execution_count": 67,
      "outputs": [
        {
          "output_type": "stream",
          "text": [
            "Shape: (4177, 7), (4177,)\n"
          ],
          "name": "stdout"
        }
      ]
    },
    {
      "cell_type": "code",
      "metadata": {
        "id": "fZ6CHfsVrpE7",
        "colab_type": "code",
        "colab": {}
      },
      "source": [
        "# Convert y (target) array to 'float32' using .astype()\n",
        "y = y.astype('float32')"
      ],
      "execution_count": null,
      "outputs": []
    },
    {
      "cell_type": "markdown",
      "metadata": {
        "id": "7bYvtBfSF7k7",
        "colab_type": "text"
      },
      "source": [
        "## **Creating a Naive Regressor**\n",
        "Here we'll use the `DummyRegressor` from `sklearn`.  This creates a so-called 'naive' regressor and is simply a model that predicts a single value for all of the rows, regardless of their original value.  \n",
        "\n",
        "1. `DummyRegressor()` arguments:\n",
        " - `strategy`: Strategy to use to generate predictions.\n",
        "\n",
        "2. `RepeatedKFold()` arguments:\n",
        " - `n_splits`: Number of folds.\n",
        " - `n_repeats`: Number of times cross-validator needs to be repeated.\n",
        " - `random_state`: Controls the generation of the random states for each repetition. Pass an int for reproducible output across multiple function calls.  (This is an equivalent argument to np.random.seed above, but will be specific to this naive model.)\n",
        "\n",
        "3. `cross_val_score()` arguments:\n",
        " - The model to use.\n",
        " - The data to fit. (X)\n",
        " - The target variable to try to predict. (y)\n",
        " - `scoring`: A single string scorer callable object/function such as 'accuracy' or 'roc_auc'.  See https://scikit-learn.org/stable/modules/model_evaluation.html#scoring-parameter for more options.\n",
        " - `cv`: Cross-validation splitting strategy (default is 5)\n",
        " - `n_jobs`: Number of CPU cores used when parallelizing.  Set to -1 helps to avoid non-convergence errors.\n",
        " - `error_score`: Value to assign to the score if an error occurs in estimator fitting. If set to ‘raise’, the error is raised. If a numeric value is given, FitFailedWarning is raised."
      ]
    },
    {
      "cell_type": "code",
      "metadata": {
        "id": "jAJdcu_Hrrg8",
        "colab_type": "code",
        "colab": {
          "base_uri": "https://localhost:8080/",
          "height": 34
        },
        "outputId": "cf665256-2c42-4a93-8166-a4e597d6bd7d"
      },
      "source": [
        "# Evaluate naive\n",
        "\n",
        "# Instantiate a DummyRegressor with 'median' strategy\n",
        "naive = DummyRegressor(strategy='median')\n",
        "\n",
        "# Create RepeatedKFold cross-validator with 10 folds, 3 repeats and a seed of 1.\n",
        "cv = RepeatedKFold(n_splits=10, n_repeats=3, random_state=1)\n",
        "\n",
        "# Calculate accuracy using `cross_val_score()` with model instantiated, data to fit, target variable, 'neg_mean_absolute_error' scoring, cross validator, n_jobs=-1, and error_score set to 'raise'\n",
        "n_scores = cross_val_score(naive, X, y, scoring='neg_mean_absolute_error', cv=cv, n_jobs=-1, error_score='raise')\n",
        "\n",
        "# Print mean and standard deviation of n_scores:\n",
        "print('Baseline: %.3f (%.3f)' % (mean(n_scores), std(n_scores)))"
      ],
      "execution_count": 77,
      "outputs": [
        {
          "output_type": "stream",
          "text": [
            "Baseline: -2.372 (0.119)\n"
          ],
          "name": "stdout"
        }
      ]
    },
    {
      "cell_type": "markdown",
      "metadata": {
        "id": "dlYQmsCQHcdJ",
        "colab_type": "text"
      },
      "source": [
        "## **Observation** \n",
        "- We want to do better than -2.37 to consider any other models as an improvement to a totally naive regressor model with the Abalone dataset."
      ]
    },
    {
      "cell_type": "markdown",
      "metadata": {
        "id": "ZfiEdoUMHo-q",
        "colab_type": "text"
      },
      "source": [
        "## **Creating a Baseline Regressor**\n",
        "Now we'll create a baseline regressor, one that seeks to correctly predict the value for each observation.  Since the target variable is continuous, we'll instantiate a Support Vector Regression model.\n",
        "\n",
        "1. `SVR()` arguments:\n",
        " - `kernel`: Specifies the kernel type to be used in the algorithm.\n",
        " - `gamma`:  Kernel coefficient for ‘rbf’, ‘poly’ and ‘sigmoid’. \n",
        " - `C`: Regularization parameter. The strength of the regularization is inversely proportional to C. Must be strictly positive. The penalty is a squared l2 penalty."
      ]
    },
    {
      "cell_type": "code",
      "metadata": {
        "id": "cFip40FPrvOn",
        "colab_type": "code",
        "colab": {
          "base_uri": "https://localhost:8080/",
          "height": 34
        },
        "outputId": "73ac5bbc-de1a-47af-bb24-5c87243ea2da"
      },
      "source": [
        "# Evaluate baseline model\n",
        "\n",
        "# Instantiate a Support Vector Regressor with 'rbf' kernel, gamma set to 'scale', and regularization parameter set to 10\n",
        "model = SVR(kernel='rbf',gamma='scale',C=10)\n",
        "\n",
        "# Calculate accuracy using `cross_val_score()` with model instantiated, data to fit, target variable, 'neg_mean_absolute_error' scoring, cross validator 'cv', n_jobs=-1, and error_score set to 'raise'\n",
        "m_scores = cross_val_score(model, X, y, scoring='neg_mean_absolute_error', cv=cv, n_jobs=-1, error_score='raise')\n",
        "\n",
        "# Print mean and standard deviation of m_scores: \n",
        "print('Good: %.3f (%.3f)' % (mean(m_scores), std(m_scores)))"
      ],
      "execution_count": 78,
      "outputs": [
        {
          "output_type": "stream",
          "text": [
            "Good: -1.483 (0.075)\n"
          ],
          "name": "stdout"
        }
      ]
    },
    {
      "cell_type": "markdown",
      "metadata": {
        "id": "Z_PMtVARKzBX",
        "colab_type": "text"
      },
      "source": [
        "## **Observation**\n",
        "- We want to do better than -1.48 with a Stacking Regressor to consider it an improvement over this baseline support vector regression model with the Abalone dataset."
      ]
    },
    {
      "cell_type": "markdown",
      "metadata": {
        "id": "J-OGF_7bupzn",
        "colab_type": "text"
      },
      "source": [
        "## **Getting started with Stacking Regressor**\n",
        "- We're going to compare several additional baseline regressors to see if they perform better than SVR we just trained previously.\n",
        "- We'll start by importing additional packages that we'll need."
      ]
    },
    {
      "cell_type": "code",
      "metadata": {
        "id": "jxbxTPkPrkNb",
        "colab_type": "code",
        "colab": {}
      },
      "source": [
        "# Compare machine learning models for regression\n",
        "from sklearn.linear_model import LinearRegression\n",
        "from sklearn.neighbors import KNeighborsRegressor\n",
        "from sklearn.tree import DecisionTreeRegressor\n",
        "from sklearn.ensemble import StackingRegressor"
      ],
      "execution_count": 82,
      "outputs": []
    },
    {
      "cell_type": "markdown",
      "metadata": {
        "id": "yixxr2JLN9UP",
        "colab_type": "text"
      },
      "source": [
        "## Create custom functions\n",
        "1. get_stacking() - This function will create the layers of our `StackingRegressor()`.\n",
        "2. get_models() - This function will create a dictionary of models to be evaluated.\n",
        "3. evaluate_model() - This function will evaluate each of the models to be compared."
      ]
    },
    {
      "cell_type": "markdown",
      "metadata": {
        "id": "FdF239ZRN92B",
        "colab_type": "text"
      },
      "source": [
        "## Custom function # 1: get_stacking()\n",
        "1. `StackingRegressor()` arguments:\n",
        " - `estimators`: List of baseline regressors\n",
        " - `final_estimator`: Defined meta regressor \n",
        " - `cv`: Number of cross validations to perform."
      ]
    },
    {
      "cell_type": "code",
      "metadata": {
        "id": "qoRNxZSj72bZ",
        "colab_type": "code",
        "colab": {}
      },
      "source": [
        "# Define get_stacking():\n",
        "def get_stacking():\n",
        "\n",
        "\t# Create an empty list for the base models called layer1\n",
        "  layer1 = list()\n",
        "\n",
        "  # Append tuple with classifier name and instantiations (no arguments) for KNeighborsRegressor, DecisionTreeRegressor, and SVR base models\n",
        "  # Hint: layer1.append(('ModelName', Classifier()))\n",
        "  layer1.append(('KNN', KNeighborsRegressor()))\n",
        "  layer1.append(('DT', DecisionTreeRegressor()))\n",
        "  layer1.append(('SVM', SVR()))\n",
        "\n",
        "  # Instantiate Linear Regression as meta learner model called layer2\n",
        "  layer2 = LinearRegression()\n",
        "\n",
        "\t# Define StackingClassifier() called model passing layer1 model list and meta learner with 5 cross-validations\n",
        "  model = StackingRegressor(estimators=layer1, final_estimator=layer2, cv=5)\n",
        "\n",
        "  # return model\n",
        "  return model"
      ],
      "execution_count": 88,
      "outputs": []
    },
    {
      "cell_type": "markdown",
      "metadata": {
        "id": "KClsJExROLAZ",
        "colab_type": "text"
      },
      "source": [
        "## Custom function # 2: get_models()"
      ]
    },
    {
      "cell_type": "code",
      "metadata": {
        "id": "PtYbhE_ps4yo",
        "colab_type": "code",
        "colab": {}
      },
      "source": [
        "# Define get_models():\n",
        "def get_models():\n",
        "\n",
        "  # Create empty dictionary called models\n",
        "  models = dict()\n",
        "\n",
        "  # Add key:value pairs to dictionary with key as ModelName and value as instantiations (no arguments) for KNeighborsRegressor, DecisionTreeRegressor, and SVR base models\n",
        "  # Hint: models['ModelName'] = Classifier()\n",
        "  models['KNN'] = KNeighborsRegressor()\n",
        "  models['DT'] = DecisionTreeRegressor()\n",
        "  models['SVM'] = SVR()\n",
        "\n",
        "  # Add key:value pair to dictionary with key called Stacking and value that calls get_stacking() custom function\n",
        "  models['Stacking'] = get_stacking()\n",
        "\n",
        "  # return dictionary\n",
        "  return models"
      ],
      "execution_count": 89,
      "outputs": []
    },
    {
      "cell_type": "markdown",
      "metadata": {
        "id": "SYH3KcjcOc56",
        "colab_type": "text"
      },
      "source": [
        "## Custom function # 3: evaluate_model(model)"
      ]
    },
    {
      "cell_type": "code",
      "metadata": {
        "id": "H95M82gks6EL",
        "colab_type": "code",
        "colab": {}
      },
      "source": [
        "# Define evaluate_model:\n",
        "def evaluate_model(model):\n",
        "\n",
        "  # Create RepeatedKFold cross-validator with 10 folds, 3 repeats and a seed of 1.\n",
        "\tcv = RepeatedKFold(n_splits=10, n_repeats=3, random_state=1)\n",
        " \n",
        "  # Calculate accuracy using `cross_val_score()` with model instantiated, data to fit, target variable, 'neg_mean_absolute_error' scoring, cross validator 'cv', n_jobs=-1, and error_score set to 'raise'\n",
        "\tscores = cross_val_score(model, X, y, scoring='neg_mean_absolute_error', cv=cv, n_jobs=-1, error_score='raise')\n",
        " \n",
        "  # return scores\n",
        "\treturn scores"
      ],
      "execution_count": 90,
      "outputs": []
    },
    {
      "cell_type": "code",
      "metadata": {
        "id": "2C6Hw-wj56eK",
        "colab_type": "code",
        "colab": {}
      },
      "source": [
        "# Assign get_models() to a variable called models\n",
        "models = get_models()"
      ],
      "execution_count": 91,
      "outputs": []
    },
    {
      "cell_type": "code",
      "metadata": {
        "id": "BZl3DjmU58Lm",
        "colab_type": "code",
        "colab": {
          "base_uri": "https://localhost:8080/",
          "height": 350
        },
        "outputId": "32144743-3ee2-4b32-845d-f25ece18248c"
      },
      "source": [
        "# Evaluate the models and store results\n",
        "# Create an empty list for the results\n",
        "results = list()\n",
        "\n",
        "# Create an empty list for the model names\n",
        "names = list()\n",
        "\n",
        "# Create a for loop that iterates over each name, model in models dictionary \n",
        "for name, model in models.items():\n",
        "\n",
        "\t# Call evaluate_model(model) and assign it to variable called scores\n",
        "\tscores = evaluate_model(model)\n",
        " \n",
        "  # Append output from scores to the results list\n",
        "\tresults.append(scores)\n",
        " \n",
        "  # Append name to the names list\n",
        "\tnames.append(name)\n",
        " \n",
        "  # Print name, mean and standard deviation of scores:\n",
        "\tprint('>%s %.3f (%.3f)' % (name, mean(scores), std(scores)))\n",
        " \n",
        "# Plot model performance for comparison using names for x and results for y and setting showmeans to True\n",
        "sns.boxplot(x=names, y=results, showmeans=True)"
      ],
      "execution_count": 92,
      "outputs": [
        {
          "output_type": "stream",
          "text": [
            ">KNN -1.597 (0.064)\n",
            ">DT -2.109 (0.117)\n",
            ">SVM -1.518 (0.077)\n",
            ">Stacking -1.536 (0.069)\n"
          ],
          "name": "stdout"
        },
        {
          "output_type": "execute_result",
          "data": {
            "text/plain": [
              "<matplotlib.axes._subplots.AxesSubplot at 0x7f10b46df978>"
            ]
          },
          "metadata": {
            "tags": []
          },
          "execution_count": 92
        },
        {
          "output_type": "display_data",
          "data": {
            "image/png": "[encoded data removed]",
            "text/plain": [
              "<Figure size 432x288 with 1 Axes>"
            ]
          },
          "metadata": {
            "tags": [],
            "needs_background": "light"
          }
        }
      ]
    },
    {
      "cell_type": "markdown",
      "metadata": {
        "id": "d6EKNBV1UOuG",
        "colab_type": "text"
      },
      "source": [
        "## **Observation**\n",
        "- Recall that we want to do better than -1.48  with a Stacking Regressor to consider it an improvement over this baseline SVR and, although close, we did not achieve that with this dataset.\n",
        "- So what else can try to improve our results with stacking?\n",
        "\n",
        "### We'll add another layer to the mix..."
      ]
    },
    {
      "cell_type": "markdown",
      "metadata": {
        "id": "N9DZ7iyZFxXo",
        "colab_type": "text"
      },
      "source": [
        "## **Double Stacking - 2 Layers**\n",
        "- Can get a little tricky\n",
        "- Just make sure that you name your layers VERY CLEARLY!\n",
        "- Both the last layer (here it's layer 3) and the stacking model will use a call to `StackingRegressor()`\n",
        "- The last layer will combine the 2nd layer with the final estimator while the model will combine the 1st layer with this last layer.\n",
        "\n",
        "<p align=\"center\">\n",
        "<img src=\"https://github.com/datacamp/Applied-Machine-Learning-Ensemble-Modeling-live-training/blob/master/assets/DoubleStacking.png?raw=True\" alt = \"Double Stacking\" width=\"90%\">\n",
        "</p>\n",
        "<br><br>"
      ]
    },
    {
      "cell_type": "code",
      "metadata": {
        "id": "fXvUmmQQF6vq",
        "colab_type": "code",
        "colab": {}
      },
      "source": [
        "# Define get_stacking() - adding another layer:\n",
        "def get_stacking():\n",
        "\n",
        "\t# Create an empty list for the 1st layer of base models called layer1\n",
        "  layer1 = list()\n",
        "\n",
        "  # Create an empty list for the 2nd layer of base models called layer2\n",
        "  layer2 = list()\n",
        "\n",
        "  # Append tuple with classifier name and instantiations (no arguments) for KNeighborsRegressor, DecisionTreeRegressor, and SVR base models\n",
        "  # Hint: layer1.append(('ModelName', Classifier()))\n",
        "  layer1.append(('KNN', KNeighborsRegressor()))\n",
        "  layer1.append(('DT', DecisionTreeRegressor()))\n",
        "  layer1.append(('SVM', SVR()))\n",
        "\n",
        "  # Append tuple with classifier name and instantiations (no arguments) for KNeighborsRegressor, DecisionTreeRegressor, and SVR base models\n",
        "  # Hint: layer2.append(('ModelName', Classifier()))\n",
        "  layer2.append(('KNN', KNeighborsRegressor()))\n",
        "  layer2.append(('DT', DecisionTreeRegressor()))\n",
        "  layer2.append(('SVM', SVR()))\n",
        "\n",
        "\t# Define meta learner StackingRegressor() called layer3 passing layer2 model list to estimators, LinearRegression() to final_estimator with 5 cross-validations\n",
        "  layer3 = StackingRegressor(estimators=layer2, final_estimator=LinearRegression(), cv=5)\n",
        "\n",
        "\t# Define StackingClassifier() called model passing layer1 model list to estimators and meta learner (layer3) to final_estimator with 5 cross-validations\n",
        "  model = StackingRegressor(estimators=layer1, final_estimator=layer3, cv=5)\n",
        "\n",
        "  # return model\n",
        "  return model"
      ],
      "execution_count": 95,
      "outputs": []
    },
    {
      "cell_type": "code",
      "metadata": {
        "id": "CnMMqOJ16Bft",
        "colab_type": "code",
        "colab": {}
      },
      "source": [
        "# Assign get_models() to a variable called models\n",
        "models = get_models()"
      ],
      "execution_count": 96,
      "outputs": []
    },
    {
      "cell_type": "code",
      "metadata": {
        "id": "kvzSjLOEIKUx",
        "colab_type": "code",
        "colab": {
          "base_uri": "https://localhost:8080/",
          "height": 350
        },
        "outputId": "3eb183e7-8443-42d3-8640-19ef9ed37956"
      },
      "source": [
        "# Evaluate the models and store results\n",
        "# Create an empty list for the results\n",
        "results = list()\n",
        "\n",
        "# Create an empty list for the model names\n",
        "names = list()\n",
        "\n",
        "# Create a for loop that iterates over each name, model in models dictionary \n",
        "for name, model in models.items():\n",
        "\n",
        "\t# Call evaluate_model(model) and assign it to variable called scores\n",
        "\tscores = evaluate_model(model)\n",
        " \n",
        "  # Append output from scores to the results list\n",
        "\tresults.append(scores)\n",
        " \n",
        "  # Append name to the names list\n",
        "\tnames.append(name)\n",
        " \n",
        "  # Print name, mean and standard deviation of scores:\n",
        "\tprint('>%s %.3f (%.3f)' % (name, mean(scores), std(scores)))\n",
        " \n",
        "# Plot model performance for comparison using names for x and results for y and setting showmeans to True\n",
        "sns.boxplot(x=names, y=results, showmeans=True)"
      ],
      "execution_count": 97,
      "outputs": [
        {
          "output_type": "stream",
          "text": [
            ">KNN -1.597 (0.064)\n",
            ">DT -2.103 (0.112)\n",
            ">SVM -1.518 (0.077)\n",
            ">Stacking -1.545 (0.072)\n"
          ],
          "name": "stdout"
        },
        {
          "output_type": "execute_result",
          "data": {
            "text/plain": [
              "<matplotlib.axes._subplots.AxesSubplot at 0x7f10b4c00940>"
            ]
          },
          "metadata": {
            "tags": []
          },
          "execution_count": 97
        },
        {
          "output_type": "display_data",
          "data": {
            "image/png": "[encoded data removed]",
            "text/plain": [
              "<Figure size 432x288 with 1 Axes>"
            ]
          },
          "metadata": {
            "tags": [],
            "needs_background": "light"
          }
        }
      ]
    },
    {
      "cell_type": "markdown",
      "metadata": {
        "id": "ZMgN44SwcJPG",
        "colab_type": "text"
      },
      "source": [
        "## **Final Observation**\n",
        "- Adding a layer did not improve results.\n",
        "- Complexity does not always make a better model\n",
        "- Could try different base models to stack for both of the datasets and that may show improvements over baseline.\n",
        "- Generate polynomial features \n",
        "- Try sklearn feature selection\n",
        "- Tune additional hyperparameters for grid search\n",
        "- When there is a tie between a baseline model and a stacked model, choose the simpler model!"
      ]
    },
    {
      "cell_type": "code",
      "metadata": {
        "id": "YE4Yv6iXnrS1",
        "colab_type": "code",
        "colab": {
          "base_uri": "https://localhost:8080/",
          "height": 51
        },
        "outputId": "f70dc3df-f4f3-42dd-8e7b-1d43c8b41a1c"
      },
      "source": [
        "# Delete this cell?\n",
        "import warnings\n",
        "warnings.filterwarnings(\"ignore\")\n",
        "\n",
        "# Fit the model on all available data\n",
        "model.fit(X, y)\n",
        "\n",
        "# Make a prediction for first 5 example\n",
        "data = X[1:6]# .reshape(1, -1)\n",
        "yhat = model.predict(data)\n",
        "print('Predicted Class: %s' % str(yhat))\n",
        "print('Actual Class: %s' % str(y[1:6]))"
      ],
      "execution_count": 54,
      "outputs": [
        {
          "output_type": "stream",
          "text": [
            "Predicted Class: [0 1 0 1 0]\n",
            "Actual Class: [0 1 0 1 0]\n"
          ],
          "name": "stdout"
        }
      ]
    }
  ]
}