{
  "nbformat": 4,
  "nbformat_minor": 0,
  "metadata": {
    "colab": {
      "name": "python_live_session_template.ipynb",
      "provenance": []
    },
    "kernelspec": {
      "display_name": "Python 3",
      "language": "python",
      "name": "python3"
    },
    "language_info": {
      "codemirror_mode": {
        "name": "ipython",
        "version": 3
      },
      "file_extension": ".py",
      "mimetype": "text/x-python",
      "name": "python",
      "nbconvert_exporter": "python",
      "pygments_lexer": "ipython3",
      "version": "3.7.1"
    }
  },
  "cells": [
    {
      "cell_type": "markdown",
      "metadata": {
        "colab_type": "text",
        "id": "6Ijg5wUCTQYG"
      },
      "source": [
        "<p align=\"center\">\n",
        "<img src=\"https://github.com/datacamp/python-live-training-template/blob/master/assets/datacamp.svg?raw=True\" alt = \"DataCamp icon\" width=\"50%\">\n",
        "</p>\n",
        "<br><br>\n",
        "\n",
        "## **Applied Machine Learning - Ensemble Modeling Live Training**\n",
        "\n",
        "_Enter a brief description of your session, here's an example below:_\n",
        "\n",
        "Welcome to this hands-on training where you will immerse yourself in applied machine learning in Python where we'll explore model stacking. Using `mlxtend`, `vecstack` and `sklearn.ensemble`, we'll learn how to create layers that are stacking-ready.\n",
        "\n",
        "The foundations of model stacking:\n",
        "\n",
        "* Create various types of baseline models, including linear and logistic regression using Scikit-Learn, for comparison to ensemble methods.\n",
        "* Build layers, then stack them up.\n",
        "* Calculate performance metrics.\n",
        "\n",
        "## **The Datasets**\n",
        "\n",
        "\n",
        "The first datasets we'll use is a CSV file named `pima-indians-diabetes.csv`, which contains data on females of Pima Indian heritage that are at least 21 years old. It contains the following columns:\n",
        "\n",
        "- `n_preg`: Number of pregnancies\n",
        "- `pl_glucose`: Plasma glucose concentration 2 hours after an oral glucose tolerance test\n",
        "- `dia_bp`: Diastolic blood pressure (mm Hg)\n",
        "- `tri_thick`: Triceps skin fold thickness (mm)\n",
        "- `serum_ins`: 2-Hour serum insulin (mu U/ml)\n",
        "- `bmi`: Body mass index (weight in kg/(height in m)^2)\n",
        "- `diab_ped`: Diabetes pedigree function\n",
        "- `age`: Age (years)\n",
        "- `class`: Class variable (0 or 1)\n"
      ]
    },
    {
      "cell_type": "markdown",
      "metadata": {
        "colab_type": "text",
        "id": "BMYfcKeDY85K"
      },
      "source": [
        "## **Getting started**"
      ]
    },
    {
      "cell_type": "code",
      "metadata": {
        "colab_type": "code",
        "id": "EMQfyC7GUNhT",
        "colab": {}
      },
      "source": [
        "# Import libraries\n",
        "import pandas as pd\n",
        "import matplotlib.pyplot as plt\n",
        "import numpy as np\n",
        "import seaborn as sns\n",
        "import missingno as msno\n",
        "import datetime as dt\n",
        "from sklearn.preprocessing import LabelEncoder\n",
        "from sklearn.model_selection import cross_val_score\n",
        "from sklearn.model_selection import RepeatedStratifiedKFold\n",
        "from sklearn.dummy import DummyClassifier\n",
        "from sklearn.linear_model import LogisticRegression"
      ],
      "execution_count": 35,
      "outputs": []
    },
    {
      "cell_type": "code",
      "metadata": {
        "colab_type": "code",
        "id": "l8t_EwRNZPLB",
        "colab": {
          "base_uri": "https://localhost:8080/",
          "height": 204
        },
        "outputId": "ef2d0114-0890-4f2c-b957-c3279feab756"
      },
      "source": [
        "# Read in the dataset\n",
        "diabetes = pd.read_csv('https://github.com/datacamp/Applied-Machine-Learning-Ensemble-Modeling-live-training/blob/master/data/pima-indians-diabetes.csv?raw=true')\n",
        "\n",
        "# Print header\n",
        "diabetes.head()"
      ],
      "execution_count": 38,
      "outputs": [
        {
          "output_type": "execute_result",
          "data": {
            "text/html": [
              "<div>\n",
              "<style scoped>\n",
              "    .dataframe tbody tr th:only-of-type {\n",
              "        vertical-align: middle;\n",
              "    }\n",
              "\n",
              "    .dataframe tbody tr th {\n",
              "        vertical-align: top;\n",
              "    }\n",
              "\n",
              "    .dataframe thead th {\n",
              "        text-align: right;\n",
              "    }\n",
              "</style>\n",
              "<table border=\"1\" class=\"dataframe\">\n",
              "  <thead>\n",
              "    <tr style=\"text-align: right;\">\n",
              "      <th></th>\n",
              "      <th>n_preg</th>\n",
              "      <th>pl_glucose</th>\n",
              "      <th>dia_bp</th>\n",
              "      <th>tri_thick</th>\n",
              "      <th>serum_ins</th>\n",
              "      <th>bmi</th>\n",
              "      <th>diab_ped</th>\n",
              "      <th>age</th>\n",
              "      <th>class</th>\n",
              "    </tr>\n",
              "  </thead>\n",
              "  <tbody>\n",
              "    <tr>\n",
              "      <th>0</th>\n",
              "      <td>6</td>\n",
              "      <td>148</td>\n",
              "      <td>72</td>\n",
              "      <td>35</td>\n",
              "      <td>0</td>\n",
              "      <td>33.6</td>\n",
              "      <td>0.627</td>\n",
              "      <td>50</td>\n",
              "      <td>1</td>\n",
              "    </tr>\n",
              "    <tr>\n",
              "      <th>1</th>\n",
              "      <td>1</td>\n",
              "      <td>85</td>\n",
              "      <td>66</td>\n",
              "      <td>29</td>\n",
              "      <td>0</td>\n",
              "      <td>26.6</td>\n",
              "      <td>0.351</td>\n",
              "      <td>31</td>\n",
              "      <td>0</td>\n",
              "    </tr>\n",
              "    <tr>\n",
              "      <th>2</th>\n",
              "      <td>8</td>\n",
              "      <td>183</td>\n",
              "      <td>64</td>\n",
              "      <td>0</td>\n",
              "      <td>0</td>\n",
              "      <td>23.3</td>\n",
              "      <td>0.672</td>\n",
              "      <td>32</td>\n",
              "      <td>1</td>\n",
              "    </tr>\n",
              "    <tr>\n",
              "      <th>3</th>\n",
              "      <td>1</td>\n",
              "      <td>89</td>\n",
              "      <td>66</td>\n",
              "      <td>23</td>\n",
              "      <td>94</td>\n",
              "      <td>28.1</td>\n",
              "      <td>0.167</td>\n",
              "      <td>21</td>\n",
              "      <td>0</td>\n",
              "    </tr>\n",
              "    <tr>\n",
              "      <th>4</th>\n",
              "      <td>0</td>\n",
              "      <td>137</td>\n",
              "      <td>40</td>\n",
              "      <td>35</td>\n",
              "      <td>168</td>\n",
              "      <td>43.1</td>\n",
              "      <td>2.288</td>\n",
              "      <td>33</td>\n",
              "      <td>1</td>\n",
              "    </tr>\n",
              "  </tbody>\n",
              "</table>\n",
              "</div>"
            ],
            "text/plain": [
              "   n_preg  pl_glucose  dia_bp  tri_thick  serum_ins   bmi  diab_ped  age  class\n",
              "0       6         148      72         35          0  33.6     0.627   50      1\n",
              "1       1          85      66         29          0  26.6     0.351   31      0\n",
              "2       8         183      64          0          0  23.3     0.672   32      1\n",
              "3       1          89      66         23         94  28.1     0.167   21      0\n",
              "4       0         137      40         35        168  43.1     2.288   33      1"
            ]
          },
          "metadata": {
            "tags": []
          },
          "execution_count": 38
        }
      ]
    },
    {
      "cell_type": "code",
      "metadata": {
        "colab_type": "code",
        "id": "IAfz_jiu0NjN",
        "colab": {
          "base_uri": "https://localhost:8080/",
          "height": 187
        },
        "outputId": "c4d7cc31-1129-4d62-ddcf-1fd4980fe5ff"
      },
      "source": [
        "# Glimpse data to understand\n",
        "diabetes.dtypes"
      ],
      "execution_count": 39,
      "outputs": [
        {
          "output_type": "execute_result",
          "data": {
            "text/plain": [
              "n_preg          int64\n",
              "pl_glucose      int64\n",
              "dia_bp          int64\n",
              "tri_thick       int64\n",
              "serum_ins       int64\n",
              "bmi           float64\n",
              "diab_ped      float64\n",
              "age             int64\n",
              "class           int64\n",
              "dtype: object"
            ]
          },
          "metadata": {
            "tags": []
          },
          "execution_count": 39
        }
      ]
    },
    {
      "cell_type": "code",
      "metadata": {
        "id": "E6UtlpG_Zo50",
        "colab_type": "code",
        "colab": {
          "base_uri": "https://localhost:8080/",
          "height": 297
        },
        "outputId": "990f2fb7-705b-44dc-d172-91dee1ab6638"
      },
      "source": [
        "diabetes.describe()"
      ],
      "execution_count": 40,
      "outputs": [
        {
          "output_type": "execute_result",
          "data": {
            "text/html": [
              "<div>\n",
              "<style scoped>\n",
              "    .dataframe tbody tr th:only-of-type {\n",
              "        vertical-align: middle;\n",
              "    }\n",
              "\n",
              "    .dataframe tbody tr th {\n",
              "        vertical-align: top;\n",
              "    }\n",
              "\n",
              "    .dataframe thead th {\n",
              "        text-align: right;\n",
              "    }\n",
              "</style>\n",
              "<table border=\"1\" class=\"dataframe\">\n",
              "  <thead>\n",
              "    <tr style=\"text-align: right;\">\n",
              "      <th></th>\n",
              "      <th>n_preg</th>\n",
              "      <th>pl_glucose</th>\n",
              "      <th>dia_bp</th>\n",
              "      <th>tri_thick</th>\n",
              "      <th>serum_ins</th>\n",
              "      <th>bmi</th>\n",
              "      <th>diab_ped</th>\n",
              "      <th>age</th>\n",
              "      <th>class</th>\n",
              "    </tr>\n",
              "  </thead>\n",
              "  <tbody>\n",
              "    <tr>\n",
              "      <th>count</th>\n",
              "      <td>768.000000</td>\n",
              "      <td>768.000000</td>\n",
              "      <td>768.000000</td>\n",
              "      <td>768.000000</td>\n",
              "      <td>768.000000</td>\n",
              "      <td>768.000000</td>\n",
              "      <td>768.000000</td>\n",
              "      <td>768.000000</td>\n",
              "      <td>768.000000</td>\n",
              "    </tr>\n",
              "    <tr>\n",
              "      <th>mean</th>\n",
              "      <td>3.845052</td>\n",
              "      <td>120.894531</td>\n",
              "      <td>69.105469</td>\n",
              "      <td>20.536458</td>\n",
              "      <td>79.799479</td>\n",
              "      <td>31.992578</td>\n",
              "      <td>0.471876</td>\n",
              "      <td>33.240885</td>\n",
              "      <td>0.348958</td>\n",
              "    </tr>\n",
              "    <tr>\n",
              "      <th>std</th>\n",
              "      <td>3.369578</td>\n",
              "      <td>31.972618</td>\n",
              "      <td>19.355807</td>\n",
              "      <td>15.952218</td>\n",
              "      <td>115.244002</td>\n",
              "      <td>7.884160</td>\n",
              "      <td>0.331329</td>\n",
              "      <td>11.760232</td>\n",
              "      <td>0.476951</td>\n",
              "    </tr>\n",
              "    <tr>\n",
              "      <th>min</th>\n",
              "      <td>0.000000</td>\n",
              "      <td>0.000000</td>\n",
              "      <td>0.000000</td>\n",
              "      <td>0.000000</td>\n",
              "      <td>0.000000</td>\n",
              "      <td>0.000000</td>\n",
              "      <td>0.078000</td>\n",
              "      <td>21.000000</td>\n",
              "      <td>0.000000</td>\n",
              "    </tr>\n",
              "    <tr>\n",
              "      <th>25%</th>\n",
              "      <td>1.000000</td>\n",
              "      <td>99.000000</td>\n",
              "      <td>62.000000</td>\n",
              "      <td>0.000000</td>\n",
              "      <td>0.000000</td>\n",
              "      <td>27.300000</td>\n",
              "      <td>0.243750</td>\n",
              "      <td>24.000000</td>\n",
              "      <td>0.000000</td>\n",
              "    </tr>\n",
              "    <tr>\n",
              "      <th>50%</th>\n",
              "      <td>3.000000</td>\n",
              "      <td>117.000000</td>\n",
              "      <td>72.000000</td>\n",
              "      <td>23.000000</td>\n",
              "      <td>30.500000</td>\n",
              "      <td>32.000000</td>\n",
              "      <td>0.372500</td>\n",
              "      <td>29.000000</td>\n",
              "      <td>0.000000</td>\n",
              "    </tr>\n",
              "    <tr>\n",
              "      <th>75%</th>\n",
              "      <td>6.000000</td>\n",
              "      <td>140.250000</td>\n",
              "      <td>80.000000</td>\n",
              "      <td>32.000000</td>\n",
              "      <td>127.250000</td>\n",
              "      <td>36.600000</td>\n",
              "      <td>0.626250</td>\n",
              "      <td>41.000000</td>\n",
              "      <td>1.000000</td>\n",
              "    </tr>\n",
              "    <tr>\n",
              "      <th>max</th>\n",
              "      <td>17.000000</td>\n",
              "      <td>199.000000</td>\n",
              "      <td>122.000000</td>\n",
              "      <td>99.000000</td>\n",
              "      <td>846.000000</td>\n",
              "      <td>67.100000</td>\n",
              "      <td>2.420000</td>\n",
              "      <td>81.000000</td>\n",
              "      <td>1.000000</td>\n",
              "    </tr>\n",
              "  </tbody>\n",
              "</table>\n",
              "</div>"
            ],
            "text/plain": [
              "           n_preg  pl_glucose      dia_bp  ...    diab_ped         age       class\n",
              "count  768.000000  768.000000  768.000000  ...  768.000000  768.000000  768.000000\n",
              "mean     3.845052  120.894531   69.105469  ...    0.471876   33.240885    0.348958\n",
              "std      3.369578   31.972618   19.355807  ...    0.331329   11.760232    0.476951\n",
              "min      0.000000    0.000000    0.000000  ...    0.078000   21.000000    0.000000\n",
              "25%      1.000000   99.000000   62.000000  ...    0.243750   24.000000    0.000000\n",
              "50%      3.000000  117.000000   72.000000  ...    0.372500   29.000000    0.000000\n",
              "75%      6.000000  140.250000   80.000000  ...    0.626250   41.000000    1.000000\n",
              "max     17.000000  199.000000  122.000000  ...    2.420000   81.000000    1.000000\n",
              "\n",
              "[8 rows x 9 columns]"
            ]
          },
          "metadata": {
            "tags": []
          },
          "execution_count": 40
        }
      ]
    },
    {
      "cell_type": "code",
      "metadata": {
        "id": "PRJPuinPZpGA",
        "colab_type": "code",
        "colab": {
          "base_uri": "https://localhost:8080/",
          "height": 289
        },
        "outputId": "e5c01ca9-66cd-442d-aad6-af90396158e1"
      },
      "source": [
        "diabetes.info()"
      ],
      "execution_count": 41,
      "outputs": [
        {
          "output_type": "stream",
          "text": [
            "<class 'pandas.core.frame.DataFrame'>\n",
            "RangeIndex: 768 entries, 0 to 767\n",
            "Data columns (total 9 columns):\n",
            " #   Column      Non-Null Count  Dtype  \n",
            "---  ------      --------------  -----  \n",
            " 0   n_preg      768 non-null    int64  \n",
            " 1   pl_glucose  768 non-null    int64  \n",
            " 2   dia_bp      768 non-null    int64  \n",
            " 3   tri_thick   768 non-null    int64  \n",
            " 4   serum_ins   768 non-null    int64  \n",
            " 5   bmi         768 non-null    float64\n",
            " 6   diab_ped    768 non-null    float64\n",
            " 7   age         768 non-null    int64  \n",
            " 8   class       768 non-null    int64  \n",
            "dtypes: float64(2), int64(7)\n",
            "memory usage: 54.1 KB\n"
          ],
          "name": "stdout"
        }
      ]
    },
    {
      "cell_type": "code",
      "metadata": {
        "id": "n5XaYl9ZZ8B5",
        "colab_type": "code",
        "colab": {
          "base_uri": "https://localhost:8080/",
          "height": 34
        },
        "outputId": "be7cb2fa-ae9b-4c39-edb5-c02195af9d30"
      },
      "source": [
        "diab = diabetes.values\n",
        "X, y = diab[:, :-1], diab[:, -1]\n",
        "print('Shape: %s, %s' % (X.shape,y.shape))"
      ],
      "execution_count": 42,
      "outputs": [
        {
          "output_type": "stream",
          "text": [
            "Shape: (768, 8), (768,)\n"
          ],
          "name": "stdout"
        }
      ]
    },
    {
      "cell_type": "code",
      "metadata": {
        "id": "hoI7t4U-Z8LU",
        "colab_type": "code",
        "colab": {}
      },
      "source": [
        "# minimally prepare dataset\n",
        "X = X.astype('float32')\n",
        "y = LabelEncoder().fit_transform(y.astype('str'))"
      ],
      "execution_count": 13,
      "outputs": []
    },
    {
      "cell_type": "code",
      "metadata": {
        "id": "BL4huFGPZ8RA",
        "colab_type": "code",
        "colab": {
          "base_uri": "https://localhost:8080/",
          "height": 34
        },
        "outputId": "a0e6b17b-c564-4159-8a9a-2e72979eb346"
      },
      "source": [
        "# evaluate naive\n",
        "naive = DummyClassifier(strategy='most_frequent')\n",
        "cv = RepeatedStratifiedKFold(n_splits=10, n_repeats=3, random_state=1)\n",
        "n_scores = cross_val_score(naive, X, y, scoring='accuracy', cv=cv, n_jobs=-1, error_score='raise')\n",
        "print('Baseline: %.3f (%.3f)' % (np.mean(n_scores), np.std(n_scores)))\n"
      ],
      "execution_count": 17,
      "outputs": [
        {
          "output_type": "stream",
          "text": [
            "Baseline: 0.651 (0.003)\n"
          ],
          "name": "stdout"
        }
      ]
    },
    {
      "cell_type": "code",
      "metadata": {
        "id": "QczFUGSfbQvl",
        "colab_type": "code",
        "colab": {
          "base_uri": "https://localhost:8080/",
          "height": 34
        },
        "outputId": "722d2864-c73e-4718-d3dd-3537cf1ef25b"
      },
      "source": [
        "# evaluate model\n",
        "model = LogisticRegression(solver='newton-cg',penalty='l2',C=1)\n",
        "m_scores = cross_val_score(model, X, y, scoring='accuracy', cv=cv, n_jobs=-1, error_score='raise')\n",
        "print('Good: %.3f (%.3f)' % (np.mean(m_scores), np.std(m_scores)))"
      ],
      "execution_count": 18,
      "outputs": [
        {
          "output_type": "stream",
          "text": [
            "Good: 0.773 (0.043)\n"
          ],
          "name": "stdout"
        }
      ]
    },
    {
      "cell_type": "code",
      "metadata": {
        "id": "oO7MuXNFcAXP",
        "colab_type": "code",
        "colab": {}
      },
      "source": [
        "from sklearn.neighbors import KNeighborsClassifier\n",
        "from sklearn.ensemble import RandomForestClassifier\n",
        "from sklearn.linear_model import LogisticRegression\n",
        "from sklearn.naive_bayes import GaussianNB \n",
        "from sklearn import model_selection\n",
        "from mlxtend.classifier import StackingCVClassifier"
      ],
      "execution_count": 25,
      "outputs": []
    },
    {
      "cell_type": "code",
      "metadata": {
        "id": "xHfLgIM7cAh4",
        "colab_type": "code",
        "colab": {}
      },
      "source": [
        "# set up the first layer\n",
        "clf1 = KNeighborsClassifier(n_neighbors=100)\n",
        "clf2 = RandomForestClassifier(random_state=1, n_estimators=300)\n",
        "clf3 = GaussianNB()"
      ],
      "execution_count": 31,
      "outputs": []
    },
    {
      "cell_type": "code",
      "metadata": {
        "id": "lLZZxBqrlds8",
        "colab_type": "code",
        "colab": {}
      },
      "source": [
        "# instantiate meta classifier and stacking classifier\n",
        "lr = LogisticRegression(solver='lbfgs')\n",
        "sclf = StackingCVClassifier(classifiers=[clf1, clf2, clf3], meta_classifier=lr, use_probas=True, cv=3)"
      ],
      "execution_count": 32,
      "outputs": []
    },
    {
      "cell_type": "code",
      "metadata": {
        "id": "TGMYKRbxliJv",
        "colab_type": "code",
        "colab": {
          "base_uri": "https://localhost:8080/",
          "height": 85
        },
        "outputId": "de3a9fad-9626-4735-ebdd-526fbfc754c2"
      },
      "source": [
        "# Do CV\n",
        "for clf, label in zip([clf1, clf2, clf3, sclf], \n",
        "                      ['KNN', \n",
        "                       'Random Forest', \n",
        "                       'Naive Bayes',\n",
        "                       'StackingClassifier']):\n",
        "\n",
        "    scores = model_selection.cross_val_score(clf, X, y, cv=3, scoring='roc_auc')\n",
        "    print(\"Accuracy: %0.2f (+/- %0.2f) [%s]\" % (scores.mean(), scores.std(), label))"
      ],
      "execution_count": 33,
      "outputs": [
        {
          "output_type": "stream",
          "text": [
            "Accuracy: 0.77 (+/- 0.02) [KNN]\n",
            "Accuracy: 0.83 (+/- 0.03) [Random Forest]\n",
            "Accuracy: 0.81 (+/- 0.04) [Naive Bayes]\n",
            "Accuracy: 0.83 (+/- 0.03) [StackingClassifier]\n"
          ],
          "name": "stdout"
        }
      ]
    },
    {
      "cell_type": "code",
      "metadata": {
        "id": "cxQd2GGB5NWT",
        "colab_type": "code",
        "colab": {}
      },
      "source": [
        "# evaluate a given model using cross-validation\n",
        "def evaluate_model(model):\n",
        "\tcv = RepeatedStratifiedKFold(n_splits=10, n_repeats=3, random_state=1)\n",
        "\tscores = cross_val_score(model, X, y, scoring='accuracy', cv=cv, n_jobs=-1, error_score='raise')\n",
        "\treturn scores"
      ],
      "execution_count": 44,
      "outputs": []
    },
    {
      "cell_type": "code",
      "metadata": {
        "id": "eHCHmx7k5NeT",
        "colab_type": "code",
        "colab": {}
      },
      "source": [
        "# compare standalone models for binary classification\n",
        "from numpy import mean\n",
        "from numpy import std\n",
        "from sklearn.datasets import make_classification\n",
        "from sklearn.model_selection import cross_val_score\n",
        "from sklearn.model_selection import RepeatedStratifiedKFold\n",
        "from sklearn.linear_model import LogisticRegression\n",
        "from sklearn.neighbors import KNeighborsClassifier\n",
        "from sklearn.tree import DecisionTreeClassifier\n",
        "from sklearn.svm import SVC\n",
        "from sklearn.naive_bayes import GaussianNB\n",
        "from sklearn.ensemble import StackingClassifier\n",
        "from matplotlib import pyplot"
      ],
      "execution_count": 58,
      "outputs": []
    },
    {
      "cell_type": "code",
      "metadata": {
        "id": "0hEJlDLB4kv5",
        "colab_type": "code",
        "colab": {}
      },
      "source": [
        "# get a list of models to evaluate\n",
        "def get_models():\n",
        "\tmodels = dict()\n",
        "\tmodels['lr'] = LogisticRegression()\n",
        "\tmodels['knn'] = KNeighborsClassifier()\n",
        "\tmodels['cart'] = DecisionTreeClassifier()\n",
        "\tmodels['svm'] = SVC()\n",
        "\tmodels['bayes'] = GaussianNB()\n",
        "\treturn models"
      ],
      "execution_count": 43,
      "outputs": []
    },
    {
      "cell_type": "code",
      "metadata": {
        "id": "mGLKRr0j5Nit",
        "colab_type": "code",
        "colab": {}
      },
      "source": [
        "# evaluate a given model using cross-validation\n",
        "def evaluate_model(model):\n",
        "\tcv = RepeatedStratifiedKFold(n_splits=10, n_repeats=3, random_state=1)\n",
        "\tscores = cross_val_score(model, X, y, scoring='accuracy', cv=cv, n_jobs=-1, error_score='raise')\n",
        "\treturn scores"
      ],
      "execution_count": 46,
      "outputs": []
    },
    {
      "cell_type": "code",
      "metadata": {
        "id": "H1RBo3Ki5Noc",
        "colab_type": "code",
        "colab": {
          "base_uri": "https://localhost:8080/",
          "height": 102
        },
        "outputId": "83b8acd3-e371-4f59-d7b2-0bb21e0d7bcb"
      },
      "source": [
        "# get the models to evaluate\n",
        "models = get_models()\n",
        "# evaluate the models and store results\n",
        "results, names = list(), list()\n",
        "for name, model in models.items():\n",
        "\tscores = evaluate_model(model)\n",
        "\tresults.append(scores)\n",
        "\tnames.append(name)\n",
        "\tprint('>%s %.3f (%.3f)' % (name, mean(scores), std(scores)))\n"
      ],
      "execution_count": 47,
      "outputs": [
        {
          "output_type": "stream",
          "text": [
            ">lr 0.773 (0.040)\n",
            ">knn 0.717 (0.040)\n",
            ">cart 0.698 (0.059)\n",
            ">svm 0.757 (0.040)\n",
            ">bayes 0.759 (0.055)\n"
          ],
          "name": "stdout"
        }
      ]
    },
    {
      "cell_type": "code",
      "metadata": {
        "id": "ZdPIv7wt5Nl5",
        "colab_type": "code",
        "colab": {
          "base_uri": "https://localhost:8080/",
          "height": 265
        },
        "outputId": "3ad652d1-df1a-4065-e019-e076ebf1b333"
      },
      "source": [
        "# plot model performance for comparison\n",
        "pyplot.boxplot(results, labels=names, showmeans=True)\n",
        "pyplot.show()"
      ],
      "execution_count": 48,
      "outputs": [
        {
          "output_type": "display_data",
          "data": {
            "image/png": "[encoded data removed]",
            "text/plain": [
              "<Figure size 432x288 with 1 Axes>"
            ]
          },
          "metadata": {
            "tags": [],
            "needs_background": "light"
          }
        }
      ]
    },
    {
      "cell_type": "code",
      "metadata": {
        "id": "YFhBv6jR6FOe",
        "colab_type": "code",
        "colab": {}
      },
      "source": [
        "# get a stacking ensemble of models\n",
        "def get_stacking():\n",
        "\t# define the base models\n",
        "\tlevel0 = list()\n",
        "\tlevel0.append(('lr', LogisticRegression()))\n",
        "\tlevel0.append(('knn', KNeighborsClassifier()))\n",
        "\tlevel0.append(('cart', DecisionTreeClassifier()))\n",
        "\tlevel0.append(('svm', SVC()))\n",
        "\tlevel0.append(('bayes', GaussianNB()))\n",
        "\t# define meta learner model\n",
        "\tlevel1 = LogisticRegression()\n",
        "\t# define the stacking ensemble\n",
        "\tmodel = StackingClassifier(estimators=level0, final_estimator=level1, cv=5)\n",
        "\treturn model"
      ],
      "execution_count": 55,
      "outputs": []
    },
    {
      "cell_type": "code",
      "metadata": {
        "id": "IseyuKmm6FTU",
        "colab_type": "code",
        "colab": {}
      },
      "source": [
        "# get a list of models to evaluate\n",
        "def get_models():\n",
        "\tmodels = dict()\n",
        "\tmodels['lr'] = LogisticRegression()\n",
        "\tmodels['knn'] = KNeighborsClassifier()\n",
        "\tmodels['cart'] = DecisionTreeClassifier()\n",
        "\tmodels['svm'] = SVC()\n",
        "\tmodels['bayes'] = GaussianNB()\n",
        "\tmodels['stacking'] = get_stacking()\n",
        "\treturn models"
      ],
      "execution_count": 56,
      "outputs": []
    },
    {
      "cell_type": "code",
      "metadata": {
        "id": "Y5wmC-TH7B7E",
        "colab_type": "code",
        "colab": {}
      },
      "source": [
        "# get the models to evaluate\n",
        "models = get_models()"
      ],
      "execution_count": 59,
      "outputs": []
    },
    {
      "cell_type": "code",
      "metadata": {
        "id": "QzXmYt1o6FWh",
        "colab_type": "code",
        "colab": {
          "base_uri": "https://localhost:8080/",
          "height": 367
        },
        "outputId": "5e0c07a1-4a79-488f-ada4-0a4be03ac62e"
      },
      "source": [
        "# evaluate the models and store results\n",
        "results, names = list(), list()\n",
        "for name, model in models.items():\n",
        "\tscores = evaluate_model(model)\n",
        "\tresults.append(scores)\n",
        "\tnames.append(name)\n",
        "\tprint('>%s %.3f (%.3f)' % (name, mean(scores), std(scores)))\n",
        "# plot model performance for comparison\n",
        "pyplot.boxplot(results, labels=names, showmeans=True)\n",
        "pyplot.show()"
      ],
      "execution_count": 60,
      "outputs": [
        {
          "output_type": "stream",
          "text": [
            ">lr 0.773 (0.040)\n",
            ">knn 0.717 (0.040)\n",
            ">cart 0.705 (0.060)\n",
            ">svm 0.757 (0.040)\n",
            ">bayes 0.759 (0.055)\n",
            ">stacking 0.769 (0.047)\n"
          ],
          "name": "stdout"
        },
        {
          "output_type": "display_data",
          "data": {
            "image/png": "[encoded data removed]",
            "text/plain": [
              "<Figure size 432x288 with 1 Axes>"
            ]
          },
          "metadata": {
            "tags": [],
            "needs_background": "light"
          }
        }
      ]
    },
    {
      "cell_type": "code",
      "metadata": {
        "id": "J9hVkSRR6FbA",
        "colab_type": "code",
        "colab": {}
      },
      "source": [
        ""
      ],
      "execution_count": null,
      "outputs": []
    }
  ]
}